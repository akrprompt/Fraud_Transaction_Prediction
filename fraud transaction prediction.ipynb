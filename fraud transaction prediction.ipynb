{
 "cells": [
  {
   "cell_type": "markdown",
   "id": "745bffdf-a01b-4a72-b1b5-aea8b6d0cef8",
   "metadata": {},
   "source": [
    "# Fraud Transaction Prediction with Advanced Resampling Techniques\n",
    "\n",
    "## Project Overview\n",
    "This project addresses the challenge of detecting fraudulent credit card transactions in a highly imbalanced dataset. With only 0.13% of transactions (8,213 out of 6,362,620) being fraudulent, this represents a real-world scenario where standard machine learning approaches often fail due to class imbalance.\n",
    "\n",
    "\n",
    "## Methodology\n",
    "I implement several advanced resampling techniques including:\n",
    "- Random Under-sampling\n",
    "- Random Over-sampling\n",
    "- SMOTE (Synthetic Minority Over-sampling Technique)\n",
    "- ADASYN (Adaptive Synthetic Sampling)\n",
    "\n",
    "These methods help balance the dataset to improve the model's ability to detect fraudulent transactions without being overwhelmed by the majority class of legitimate transactions.\n",
    "\n",
    "\n",
    "## Evaluation Strategy\n",
    "Rather than relying on accuracy (which can be misleading with imbalanced data), this project focuses on more appropriate metrics:\n",
    "- Accuracy\n",
    "- AUC\n",
    "- Precision\n",
    "- F1-score\n",
    "- Recall\n",
    "- Confusion matrix\n",
    "\n",
    "These metrics better capture the model's performance on the minority class that represents fraudulent transactions.\n",
    "\n",
    "\n",
    "## Models Implemented\n",
    "\n",
    "This project implements and compares three different machine learning algorithms to identify the most effective approach for fraud detection:\n",
    "\n",
    "### Decision Tree (DT)\n",
    "Decision Trees are used as both a baseline model and for their interpretability. The hierarchical structure of decision trees helps identify the most important features for fraud detection and provides clear decision paths that can be followed to understand classifications.\n",
    "\n",
    "### XGBoost (XGB)\n",
    "XGBoost is implemented as a high-performance gradient boosting framework that excels with imbalanced datasets. This ensemble technique combines multiple decision trees to create a robust model that:\n",
    "- Handles the class imbalance effectively\n",
    "- Provides superior classification performance on fraud transactions  \n",
    "- Includes built-in regularization to prevent overfitting\n",
    "- Offers feature importance rankings to enhance interpretability\n",
    "\n",
    "### Logistic Regression (LR)\n",
    "Logistic Regression serves as a probabilistic linear classifier that:\n",
    "- Provides probability scores for transactions being fraudulent\n",
    "- Offers excellent baseline performance when combined with resampling techniques\n",
    "- Delivers high interpretability through its coefficients\n",
    "- Demonstrates how simpler models can sometimes outperform complex ones when properly tuned\n",
    "  \n",
    "\n",
    "## Model Comparison\n",
    "Each model is evaluated across different resampling techniques (Random Under-sampling, Random Over-sampling, SMOTE, ADASYN) to determine the optimal combination. Performance metrics are compared systematically to identify which approach yields the best balance between fraud detection (recall) and minimizing false positives (precision).\n"
   ]
  },
  {
   "cell_type": "code",
   "execution_count": 159,
   "id": "58554ce6-dabc-498b-b1c2-ffe82638edb4",
   "metadata": {
    "editable": true,
    "slideshow": {
     "slide_type": ""
    },
    "tags": []
   },
   "outputs": [],
   "source": [
    "#Import Section\n",
    "import numpy as np\n",
    "import pandas as pd\n",
    "import seaborn as sns\n",
    "import matplotlib.pyplot as plt\n",
    "import scipy.stats as st\n",
    "from sklearn.preprocessing import LabelEncoder\n",
    "from sklearn.preprocessing import MinMaxScaler\n",
    "from sklearn.model_selection import train_test_split\n",
    "from imblearn.over_sampling import SMOTE\n",
    "from sklearn.linear_model import LogisticRegression\n",
    "from collections import Counter\n",
    "from sklearn.datasets import make_classification\n",
    "\n",
    "# Import imbalace technique algorithims\n",
    "from sklearn.metrics import precision_score, recall_score, f1_score, roc_auc_score, accuracy_score, classification_report\n",
    "from imblearn.over_sampling import SMOTE, ADASYN\n",
    "from imblearn.under_sampling import RandomUnderSampler\n",
    "from imblearn.over_sampling import RandomOverSampler"
   ]
  },
  {
   "cell_type": "markdown",
   "id": "097e39fc-6cb3-45ff-87b1-6f0db466a004",
   "metadata": {},
   "source": [
    "## Import Dataset"
   ]
  },
  {
   "cell_type": "code",
   "execution_count": 161,
   "id": "7069798e-b413-40b8-833b-442191ce1909",
   "metadata": {},
   "outputs": [
    {
     "name": "stdout",
     "output_type": "stream",
     "text": [
      "<class 'pandas.core.frame.DataFrame'>\n",
      "RangeIndex: 6362620 entries, 0 to 6362619\n",
      "Data columns (total 11 columns):\n",
      " #   Column          Dtype  \n",
      "---  ------          -----  \n",
      " 0   step            int64  \n",
      " 1   type            object \n",
      " 2   amount          float64\n",
      " 3   nameOrig        object \n",
      " 4   oldbalanceOrg   float64\n",
      " 5   newbalanceOrig  float64\n",
      " 6   nameDest        object \n",
      " 7   oldbalanceDest  float64\n",
      " 8   newbalanceDest  float64\n",
      " 9   isFraud         int64  \n",
      " 10  isFlaggedFraud  int64  \n",
      "dtypes: float64(5), int64(3), object(3)\n",
      "memory usage: 534.0+ MB\n"
     ]
    }
   ],
   "source": [
    "df = pd.read_csv('Fraud.csv') #upload file\n",
    "df.info()"
   ]
  },
  {
   "cell_type": "code",
   "execution_count": 163,
   "id": "ba3a912f-403f-45dc-b8d1-f85bb3b2c0e1",
   "metadata": {},
   "outputs": [],
   "source": [
    "df = pd.read_csv('Fraud.csv')"
   ]
  },
  {
   "cell_type": "markdown",
   "id": "c0d82800-e16b-4af9-b301-72c769f35100",
   "metadata": {},
   "source": [
    "## Data Understanding"
   ]
  },
  {
   "cell_type": "code",
   "execution_count": 165,
   "id": "e9cfa85c-2ca9-4d6e-8b08-9c651c46e4b8",
   "metadata": {},
   "outputs": [
    {
     "data": {
      "text/html": [
       "<div>\n",
       "<style scoped>\n",
       "    .dataframe tbody tr th:only-of-type {\n",
       "        vertical-align: middle;\n",
       "    }\n",
       "\n",
       "    .dataframe tbody tr th {\n",
       "        vertical-align: top;\n",
       "    }\n",
       "\n",
       "    .dataframe thead th {\n",
       "        text-align: right;\n",
       "    }\n",
       "</style>\n",
       "<table border=\"1\" class=\"dataframe\">\n",
       "  <thead>\n",
       "    <tr style=\"text-align: right;\">\n",
       "      <th></th>\n",
       "      <th>step</th>\n",
       "      <th>type</th>\n",
       "      <th>amount</th>\n",
       "      <th>nameOrig</th>\n",
       "      <th>oldbalanceOrg</th>\n",
       "      <th>newbalanceOrig</th>\n",
       "      <th>nameDest</th>\n",
       "      <th>oldbalanceDest</th>\n",
       "      <th>newbalanceDest</th>\n",
       "      <th>isFraud</th>\n",
       "      <th>isFlaggedFraud</th>\n",
       "    </tr>\n",
       "  </thead>\n",
       "  <tbody>\n",
       "    <tr>\n",
       "      <th>0</th>\n",
       "      <td>1</td>\n",
       "      <td>PAYMENT</td>\n",
       "      <td>9839.64</td>\n",
       "      <td>C1231006815</td>\n",
       "      <td>170136.00</td>\n",
       "      <td>160296.36</td>\n",
       "      <td>M1979787155</td>\n",
       "      <td>0.00</td>\n",
       "      <td>0.00</td>\n",
       "      <td>0</td>\n",
       "      <td>0</td>\n",
       "    </tr>\n",
       "    <tr>\n",
       "      <th>1</th>\n",
       "      <td>1</td>\n",
       "      <td>PAYMENT</td>\n",
       "      <td>1864.28</td>\n",
       "      <td>C1666544295</td>\n",
       "      <td>21249.00</td>\n",
       "      <td>19384.72</td>\n",
       "      <td>M2044282225</td>\n",
       "      <td>0.00</td>\n",
       "      <td>0.00</td>\n",
       "      <td>0</td>\n",
       "      <td>0</td>\n",
       "    </tr>\n",
       "    <tr>\n",
       "      <th>2</th>\n",
       "      <td>1</td>\n",
       "      <td>TRANSFER</td>\n",
       "      <td>181.00</td>\n",
       "      <td>C1305486145</td>\n",
       "      <td>181.00</td>\n",
       "      <td>0.00</td>\n",
       "      <td>C553264065</td>\n",
       "      <td>0.00</td>\n",
       "      <td>0.00</td>\n",
       "      <td>1</td>\n",
       "      <td>0</td>\n",
       "    </tr>\n",
       "    <tr>\n",
       "      <th>3</th>\n",
       "      <td>1</td>\n",
       "      <td>CASH_OUT</td>\n",
       "      <td>181.00</td>\n",
       "      <td>C840083671</td>\n",
       "      <td>181.00</td>\n",
       "      <td>0.00</td>\n",
       "      <td>C38997010</td>\n",
       "      <td>21182.00</td>\n",
       "      <td>0.00</td>\n",
       "      <td>1</td>\n",
       "      <td>0</td>\n",
       "    </tr>\n",
       "    <tr>\n",
       "      <th>4</th>\n",
       "      <td>1</td>\n",
       "      <td>PAYMENT</td>\n",
       "      <td>11668.14</td>\n",
       "      <td>C2048537720</td>\n",
       "      <td>41554.00</td>\n",
       "      <td>29885.86</td>\n",
       "      <td>M1230701703</td>\n",
       "      <td>0.00</td>\n",
       "      <td>0.00</td>\n",
       "      <td>0</td>\n",
       "      <td>0</td>\n",
       "    </tr>\n",
       "  </tbody>\n",
       "</table>\n",
       "</div>"
      ],
      "text/plain": [
       "   step      type   amount     nameOrig  oldbalanceOrg  newbalanceOrig  \\\n",
       "0     1   PAYMENT  9839.64  C1231006815      170136.00       160296.36   \n",
       "1     1   PAYMENT  1864.28  C1666544295       21249.00        19384.72   \n",
       "2     1  TRANSFER   181.00  C1305486145         181.00            0.00   \n",
       "3     1  CASH_OUT   181.00   C840083671         181.00            0.00   \n",
       "4     1   PAYMENT 11668.14  C2048537720       41554.00        29885.86   \n",
       "\n",
       "      nameDest  oldbalanceDest  newbalanceDest  isFraud  isFlaggedFraud  \n",
       "0  M1979787155            0.00            0.00        0               0  \n",
       "1  M2044282225            0.00            0.00        0               0  \n",
       "2   C553264065            0.00            0.00        1               0  \n",
       "3    C38997010        21182.00            0.00        1               0  \n",
       "4  M1230701703            0.00            0.00        0               0  "
      ]
     },
     "execution_count": 165,
     "metadata": {},
     "output_type": "execute_result"
    }
   ],
   "source": [
    "df.head() #observation"
   ]
  },
  {
   "cell_type": "code",
   "execution_count": 167,
   "id": "bf3fe8f1-51de-45a0-9a57-e9e52e0b95ea",
   "metadata": {},
   "outputs": [
    {
     "data": {
      "text/plain": [
       "(6362620, 11)"
      ]
     },
     "execution_count": 167,
     "metadata": {},
     "output_type": "execute_result"
    }
   ],
   "source": [
    "df.shape"
   ]
  },
  {
   "cell_type": "code",
   "execution_count": 169,
   "id": "ff3b3345-b77e-4722-b016-9d20be0081cd",
   "metadata": {},
   "outputs": [
    {
     "data": {
      "text/html": [
       "<div>\n",
       "<style scoped>\n",
       "    .dataframe tbody tr th:only-of-type {\n",
       "        vertical-align: middle;\n",
       "    }\n",
       "\n",
       "    .dataframe tbody tr th {\n",
       "        vertical-align: top;\n",
       "    }\n",
       "\n",
       "    .dataframe thead th {\n",
       "        text-align: right;\n",
       "    }\n",
       "</style>\n",
       "<table border=\"1\" class=\"dataframe\">\n",
       "  <thead>\n",
       "    <tr style=\"text-align: right;\">\n",
       "      <th></th>\n",
       "      <th>step</th>\n",
       "      <th>amount</th>\n",
       "      <th>oldbalanceOrg</th>\n",
       "      <th>newbalanceOrig</th>\n",
       "      <th>oldbalanceDest</th>\n",
       "      <th>newbalanceDest</th>\n",
       "      <th>isFraud</th>\n",
       "      <th>isFlaggedFraud</th>\n",
       "    </tr>\n",
       "  </thead>\n",
       "  <tbody>\n",
       "    <tr>\n",
       "      <th>count</th>\n",
       "      <td>6362620.00</td>\n",
       "      <td>6362620.00</td>\n",
       "      <td>6362620.00</td>\n",
       "      <td>6362620.00</td>\n",
       "      <td>6362620.00</td>\n",
       "      <td>6362620.00</td>\n",
       "      <td>6362620.00</td>\n",
       "      <td>6362620.00</td>\n",
       "    </tr>\n",
       "    <tr>\n",
       "      <th>mean</th>\n",
       "      <td>243.40</td>\n",
       "      <td>179861.90</td>\n",
       "      <td>833883.10</td>\n",
       "      <td>855113.67</td>\n",
       "      <td>1100701.67</td>\n",
       "      <td>1224996.40</td>\n",
       "      <td>0.00</td>\n",
       "      <td>0.00</td>\n",
       "    </tr>\n",
       "    <tr>\n",
       "      <th>std</th>\n",
       "      <td>142.33</td>\n",
       "      <td>603858.23</td>\n",
       "      <td>2888242.67</td>\n",
       "      <td>2924048.50</td>\n",
       "      <td>3399180.11</td>\n",
       "      <td>3674128.94</td>\n",
       "      <td>0.04</td>\n",
       "      <td>0.00</td>\n",
       "    </tr>\n",
       "    <tr>\n",
       "      <th>min</th>\n",
       "      <td>1.00</td>\n",
       "      <td>0.00</td>\n",
       "      <td>0.00</td>\n",
       "      <td>0.00</td>\n",
       "      <td>0.00</td>\n",
       "      <td>0.00</td>\n",
       "      <td>0.00</td>\n",
       "      <td>0.00</td>\n",
       "    </tr>\n",
       "    <tr>\n",
       "      <th>25%</th>\n",
       "      <td>156.00</td>\n",
       "      <td>13389.57</td>\n",
       "      <td>0.00</td>\n",
       "      <td>0.00</td>\n",
       "      <td>0.00</td>\n",
       "      <td>0.00</td>\n",
       "      <td>0.00</td>\n",
       "      <td>0.00</td>\n",
       "    </tr>\n",
       "    <tr>\n",
       "      <th>50%</th>\n",
       "      <td>239.00</td>\n",
       "      <td>74871.94</td>\n",
       "      <td>14208.00</td>\n",
       "      <td>0.00</td>\n",
       "      <td>132705.66</td>\n",
       "      <td>214661.44</td>\n",
       "      <td>0.00</td>\n",
       "      <td>0.00</td>\n",
       "    </tr>\n",
       "    <tr>\n",
       "      <th>75%</th>\n",
       "      <td>335.00</td>\n",
       "      <td>208721.48</td>\n",
       "      <td>107315.18</td>\n",
       "      <td>144258.41</td>\n",
       "      <td>943036.71</td>\n",
       "      <td>1111909.25</td>\n",
       "      <td>0.00</td>\n",
       "      <td>0.00</td>\n",
       "    </tr>\n",
       "    <tr>\n",
       "      <th>max</th>\n",
       "      <td>743.00</td>\n",
       "      <td>92445516.64</td>\n",
       "      <td>59585040.37</td>\n",
       "      <td>49585040.37</td>\n",
       "      <td>356015889.35</td>\n",
       "      <td>356179278.92</td>\n",
       "      <td>1.00</td>\n",
       "      <td>1.00</td>\n",
       "    </tr>\n",
       "  </tbody>\n",
       "</table>\n",
       "</div>"
      ],
      "text/plain": [
       "            step      amount  oldbalanceOrg  newbalanceOrig  oldbalanceDest  \\\n",
       "count 6362620.00  6362620.00     6362620.00      6362620.00      6362620.00   \n",
       "mean      243.40   179861.90      833883.10       855113.67      1100701.67   \n",
       "std       142.33   603858.23     2888242.67      2924048.50      3399180.11   \n",
       "min         1.00        0.00           0.00            0.00            0.00   \n",
       "25%       156.00    13389.57           0.00            0.00            0.00   \n",
       "50%       239.00    74871.94       14208.00            0.00       132705.66   \n",
       "75%       335.00   208721.48      107315.18       144258.41       943036.71   \n",
       "max       743.00 92445516.64    59585040.37     49585040.37    356015889.35   \n",
       "\n",
       "       newbalanceDest    isFraud  isFlaggedFraud  \n",
       "count      6362620.00 6362620.00      6362620.00  \n",
       "mean       1224996.40       0.00            0.00  \n",
       "std        3674128.94       0.04            0.00  \n",
       "min              0.00       0.00            0.00  \n",
       "25%              0.00       0.00            0.00  \n",
       "50%         214661.44       0.00            0.00  \n",
       "75%        1111909.25       0.00            0.00  \n",
       "max      356179278.92       1.00            1.00  "
      ]
     },
     "execution_count": 169,
     "metadata": {},
     "output_type": "execute_result"
    }
   ],
   "source": [
    "pd.set_option('display.float_format', '{:.2f}'.format)\n",
    "df.describe() #explore statistic"
   ]
  },
  {
   "cell_type": "code",
   "execution_count": 171,
   "id": "5a0bd5dd-d4ed-45c2-b540-70561278ca33",
   "metadata": {},
   "outputs": [
    {
     "data": {
      "text/html": [
       "<div>\n",
       "<style scoped>\n",
       "    .dataframe tbody tr th:only-of-type {\n",
       "        vertical-align: middle;\n",
       "    }\n",
       "\n",
       "    .dataframe tbody tr th {\n",
       "        vertical-align: top;\n",
       "    }\n",
       "\n",
       "    .dataframe thead th {\n",
       "        text-align: right;\n",
       "    }\n",
       "</style>\n",
       "<table border=\"1\" class=\"dataframe\">\n",
       "  <thead>\n",
       "    <tr style=\"text-align: right;\">\n",
       "      <th></th>\n",
       "      <th>type</th>\n",
       "      <th>nameOrig</th>\n",
       "      <th>nameDest</th>\n",
       "    </tr>\n",
       "  </thead>\n",
       "  <tbody>\n",
       "    <tr>\n",
       "      <th>count</th>\n",
       "      <td>6362620</td>\n",
       "      <td>6362620</td>\n",
       "      <td>6362620</td>\n",
       "    </tr>\n",
       "    <tr>\n",
       "      <th>unique</th>\n",
       "      <td>5</td>\n",
       "      <td>6353307</td>\n",
       "      <td>2722362</td>\n",
       "    </tr>\n",
       "    <tr>\n",
       "      <th>top</th>\n",
       "      <td>CASH_OUT</td>\n",
       "      <td>C1902386530</td>\n",
       "      <td>C1286084959</td>\n",
       "    </tr>\n",
       "    <tr>\n",
       "      <th>freq</th>\n",
       "      <td>2237500</td>\n",
       "      <td>3</td>\n",
       "      <td>113</td>\n",
       "    </tr>\n",
       "  </tbody>\n",
       "</table>\n",
       "</div>"
      ],
      "text/plain": [
       "            type     nameOrig     nameDest\n",
       "count    6362620      6362620      6362620\n",
       "unique         5      6353307      2722362\n",
       "top     CASH_OUT  C1902386530  C1286084959\n",
       "freq     2237500            3          113"
      ]
     },
     "execution_count": 171,
     "metadata": {},
     "output_type": "execute_result"
    }
   ],
   "source": [
    "df.describe(include='object')"
   ]
  },
  {
   "cell_type": "markdown",
   "id": "63cc54a6-9ef5-4922-94ab-8b89ad21da2a",
   "metadata": {
    "editable": true,
    "slideshow": {
     "slide_type": ""
    },
    "tags": []
   },
   "source": [
    "### Find null"
   ]
  },
  {
   "cell_type": "code",
   "execution_count": 38,
   "id": "c9db2417-2f72-4d61-b901-44b045818b4d",
   "metadata": {},
   "outputs": [
    {
     "data": {
      "text/html": [
       "<div>\n",
       "<style scoped>\n",
       "    .dataframe tbody tr th:only-of-type {\n",
       "        vertical-align: middle;\n",
       "    }\n",
       "\n",
       "    .dataframe tbody tr th {\n",
       "        vertical-align: top;\n",
       "    }\n",
       "\n",
       "    .dataframe thead th {\n",
       "        text-align: right;\n",
       "    }\n",
       "</style>\n",
       "<table border=\"1\" class=\"dataframe\">\n",
       "  <thead>\n",
       "    <tr style=\"text-align: right;\">\n",
       "      <th></th>\n",
       "      <th>Total No. of Missing Values</th>\n",
       "    </tr>\n",
       "  </thead>\n",
       "  <tbody>\n",
       "    <tr>\n",
       "      <th>step</th>\n",
       "      <td>0</td>\n",
       "    </tr>\n",
       "    <tr>\n",
       "      <th>type</th>\n",
       "      <td>0</td>\n",
       "    </tr>\n",
       "    <tr>\n",
       "      <th>amount</th>\n",
       "      <td>0</td>\n",
       "    </tr>\n",
       "    <tr>\n",
       "      <th>nameOrig</th>\n",
       "      <td>0</td>\n",
       "    </tr>\n",
       "    <tr>\n",
       "      <th>oldbalanceOrg</th>\n",
       "      <td>0</td>\n",
       "    </tr>\n",
       "    <tr>\n",
       "      <th>newbalanceOrig</th>\n",
       "      <td>0</td>\n",
       "    </tr>\n",
       "    <tr>\n",
       "      <th>nameDest</th>\n",
       "      <td>0</td>\n",
       "    </tr>\n",
       "    <tr>\n",
       "      <th>oldbalanceDest</th>\n",
       "      <td>0</td>\n",
       "    </tr>\n",
       "    <tr>\n",
       "      <th>newbalanceDest</th>\n",
       "      <td>0</td>\n",
       "    </tr>\n",
       "    <tr>\n",
       "      <th>isFraud</th>\n",
       "      <td>0</td>\n",
       "    </tr>\n",
       "    <tr>\n",
       "      <th>isFlaggedFraud</th>\n",
       "      <td>0</td>\n",
       "    </tr>\n",
       "  </tbody>\n",
       "</table>\n",
       "</div>"
      ],
      "text/plain": [
       "                Total No. of Missing Values\n",
       "step                                      0\n",
       "type                                      0\n",
       "amount                                    0\n",
       "nameOrig                                  0\n",
       "oldbalanceOrg                             0\n",
       "newbalanceOrig                            0\n",
       "nameDest                                  0\n",
       "oldbalanceDest                            0\n",
       "newbalanceDest                            0\n",
       "isFraud                                   0\n",
       "isFlaggedFraud                            0"
      ]
     },
     "execution_count": 38,
     "metadata": {},
     "output_type": "execute_result"
    }
   ],
   "source": [
    "df.isnull().sum().to_frame().rename(columns={0:\"Total No. of Missing Values\"})"
   ]
  },
  {
   "cell_type": "markdown",
   "id": "f6c1a06e-7899-40b6-a1d9-a8156bae28a9",
   "metadata": {},
   "source": [
    "### Remove Duplicate"
   ]
  },
  {
   "cell_type": "code",
   "execution_count": 40,
   "id": "dcb14e40-b200-482e-81e6-98df6c30f67d",
   "metadata": {},
   "outputs": [
    {
     "name": "stdout",
     "output_type": "stream",
     "text": [
      "Duplicate Values = 0\n"
     ]
    }
   ],
   "source": [
    "print(\"Duplicate Values =\",df.duplicated().sum())"
   ]
  },
  {
   "cell_type": "code",
   "execution_count": 180,
   "id": "54db894c-dc9a-478c-85ed-1ef0e3f6f2c6",
   "metadata": {},
   "outputs": [
    {
     "data": {
      "text/plain": [
       "step                  743\n",
       "type                    5\n",
       "amount            5316900\n",
       "nameOrig          6353307\n",
       "oldbalanceOrg     1845844\n",
       "newbalanceOrig    2682586\n",
       "nameDest          2722362\n",
       "oldbalanceDest    3614697\n",
       "newbalanceDest    3555499\n",
       "isFraud                 2\n",
       "isFlaggedFraud          2\n",
       "dtype: int64"
      ]
     },
     "execution_count": 180,
     "metadata": {},
     "output_type": "execute_result"
    }
   ],
   "source": [
    "df.nunique()"
   ]
  },
  {
   "cell_type": "markdown",
   "id": "f7d96914-cd6d-4b7b-b49e-38395f87ebd7",
   "metadata": {},
   "source": [
    "Filter 'isFlaggedFraud' "
   ]
  },
  {
   "cell_type": "code",
   "execution_count": 183,
   "id": "e0d4b86d-798f-40a8-9458-138acc93d033",
   "metadata": {},
   "outputs": [
    {
     "name": "stdout",
     "output_type": "stream",
     "text": [
      "No. Flagged transaction: 16\n",
      "\n",
      "IsFlaggedFraud:\n",
      "         step      type      amount     nameOrig  oldbalanceOrg  \\\n",
      "2736446   212  TRANSFER  4953893.08   C728984460     4953893.08   \n",
      "3247297   250  TRANSFER  1343002.08  C1100582606     1343002.08   \n",
      "3760288   279  TRANSFER   536624.41  C1035541766      536624.41   \n",
      "5563713   387  TRANSFER  4892193.09   C908544136     4892193.09   \n",
      "5996407   425  TRANSFER 10000000.00   C689608084    19585040.37   \n",
      "5996409   425  TRANSFER  9585040.37   C452586515    19585040.37   \n",
      "6168499   554  TRANSFER  3576297.10   C193696150     3576297.10   \n",
      "6205439   586  TRANSFER   353874.22  C1684585475      353874.22   \n",
      "6266413   617  TRANSFER  2542664.27   C786455622     2542664.27   \n",
      "6281482   646  TRANSFER 10000000.00    C19004745    10399045.08   \n",
      "6281484   646  TRANSFER   399045.08   C724693370    10399045.08   \n",
      "6296014   671  TRANSFER  3441041.46   C917414431     3441041.46   \n",
      "6351225   702  TRANSFER  3171085.59  C1892216157     3171085.59   \n",
      "6362460   730  TRANSFER 10000000.00  C2140038573    17316255.05   \n",
      "6362462   730  TRANSFER  7316255.05  C1869569059    17316255.05   \n",
      "6362584   741  TRANSFER  5674547.89   C992223106     5674547.89   \n",
      "\n",
      "         newbalanceOrig     nameDest  oldbalanceDest  newbalanceDest  isFraud  \\\n",
      "2736446      4953893.08   C639921569            0.00            0.00        1   \n",
      "3247297      1343002.08  C1147517658            0.00            0.00        1   \n",
      "3760288       536624.41  C1100697970            0.00            0.00        1   \n",
      "5563713      4892193.09   C891140444            0.00            0.00        1   \n",
      "5996407     19585040.37  C1392803603            0.00            0.00        1   \n",
      "5996409     19585040.37  C1109166882            0.00            0.00        1   \n",
      "6168499      3576297.10   C484597480            0.00            0.00        1   \n",
      "6205439       353874.22  C1770418982            0.00            0.00        1   \n",
      "6266413      2542664.27   C661958277            0.00            0.00        1   \n",
      "6281482     10399045.08  C1806199534            0.00            0.00        1   \n",
      "6281484     10399045.08  C1909486199            0.00            0.00        1   \n",
      "6296014      3441041.46  C1082139865            0.00            0.00        1   \n",
      "6351225      3171085.59  C1308068787            0.00            0.00        1   \n",
      "6362460     17316255.05  C1395467927            0.00            0.00        1   \n",
      "6362462     17316255.05  C1861208726            0.00            0.00        1   \n",
      "6362584      5674547.89  C1366804249            0.00            0.00        1   \n",
      "\n",
      "         isFlaggedFraud  \n",
      "2736446               1  \n",
      "3247297               1  \n",
      "3760288               1  \n",
      "5563713               1  \n",
      "5996407               1  \n",
      "5996409               1  \n",
      "6168499               1  \n",
      "6205439               1  \n",
      "6266413               1  \n",
      "6281482               1  \n",
      "6281484               1  \n",
      "6296014               1  \n",
      "6351225               1  \n",
      "6362460               1  \n",
      "6362462               1  \n",
      "6362584               1  \n",
      "\n",
      "Statistic of flagged transaction:\n",
      "        step      amount  oldbalanceOrg  newbalanceOrig  oldbalanceDest  \\\n",
      "count  16.00       16.00          16.00           16.00           16.00   \n",
      "mean  537.56  4861597.73     7817869.01      7817869.01            0.00   \n",
      "std   181.90  3572499.10     6972668.53      6972668.53            0.00   \n",
      "min   212.00   353874.22      353874.22       353874.22            0.00   \n",
      "25%   415.50  2242748.72     3013980.26      3013980.26            0.00   \n",
      "50%   601.50  4234245.09     4923043.08      4923043.08            0.00   \n",
      "75%   678.75  7883451.38    12128347.57     12128347.57            0.00   \n",
      "max   741.00 10000000.00    19585040.37     19585040.37            0.00   \n",
      "\n",
      "       newbalanceDest  isFraud  isFlaggedFraud  \n",
      "count           16.00    16.00           16.00  \n",
      "mean             0.00     1.00            1.00  \n",
      "std              0.00     0.00            0.00  \n",
      "min              0.00     1.00            1.00  \n",
      "25%              0.00     1.00            1.00  \n",
      "50%              0.00     1.00            1.00  \n",
      "75%              0.00     1.00            1.00  \n",
      "max              0.00     1.00            1.00  \n",
      "\n",
      "Check all FlaggedFraud is Fraud:\n",
      "isFraud\n",
      "1    16\n",
      "Name: count, dtype: int64\n"
     ]
    }
   ],
   "source": [
    "flagged_fraud = df[df['isFlaggedFraud'] == 1]\n",
    "\n",
    "print(f\"No. Flagged transaction: {len(flagged_fraud)}\")\n",
    "print(\"\\nIsFlaggedFraud:\")\n",
    "print(flagged_fraud)\n",
    "\n",
    "print(\"\\nStatistic of flagged transaction:\")\n",
    "print(flagged_fraud.describe())\n",
    "\n",
    "# Check all FlaggedFraud is Fraud\n",
    "print(\"\\nCheck all FlaggedFraud is Fraud:\")\n",
    "print(flagged_fraud['isFraud'].value_counts())"
   ]
  },
  {
   "cell_type": "markdown",
   "id": "f3eab774-d820-4dd1-8983-5c05900e7501",
   "metadata": {},
   "source": [
    "## Visualization"
   ]
  },
  {
   "cell_type": "code",
   "execution_count": 189,
   "id": "f57eac0a-0439-43cb-bcbb-9d5a377eab36",
   "metadata": {},
   "outputs": [
    {
     "data": {
      "image/png": "[encoded data removed]",
      "text/plain": [
       "<Figure size 800x600 with 2 Axes>"
      ]
     },
     "metadata": {},
     "output_type": "display_data"
    }
   ],
   "source": [
    "plt.figure(figsize=(8, 6))\n",
    "\n",
    "# isFraud plot\n",
    "plt.subplot(121)\n",
    "ax = sns.countplot(data=df, x='isFraud', color='#FFCCD5')\n",
    "for container in ax.containers:\n",
    "   ax.bar_label(container, fmt='{:,}')  \n",
    "\n",
    "# isFlaggedFraud plot\n",
    "plt.subplot(122)\n",
    "ax = sns.countplot(data=df, x='isFlaggedFraud', color='#FFCCD5')\n",
    "for container in ax.containers:\n",
    "   ax.bar_label(container, fmt='{:,}') \n",
    "\n",
    "plt.suptitle('Count plot of isFraud and isFlaggedFraud')\n",
    "plt.show()"
   ]
  },
  {
   "cell_type": "markdown",
   "id": "7c10b969-c8f5-47da-a240-e4f93d4e3d37",
   "metadata": {},
   "source": [
    "This graph highlights the extreme class imbalance in the dataset: out of over 6.3 million transactions, only 8,213 (0.13%) are actual fraud cases (left chart), while just 16 transactions were flagged as fraud by existing systems (right chart). This severe imbalance (773:1 ratio of legitimate to fraudulent transactions) demonstrates why traditional accuracy metrics would be misleading and why specialized techniques are necessary for effective fraud detection modeling."
   ]
  },
  {
   "cell_type": "code",
   "execution_count": 192,
   "id": "d2a1ea7e-07f3-4892-b764-5c29ddfcf107",
   "metadata": {},
   "outputs": [
    {
     "data": {
      "text/plain": [
       "<Axes: xlabel='count', ylabel='type'>"
      ]
     },
     "execution_count": 192,
     "metadata": {},
     "output_type": "execute_result"
    },
    {
     "data": {
      "image/png": "[encoded data removed]",
      "text/plain": [
       "<Figure size 1200x600 with 1 Axes>"
      ]
     },
     "metadata": {},
     "output_type": "display_data"
    }
   ],
   "source": [
    "plt.figure(figsize=(12, 6))\n",
    "sns.countplot(data=df, y='type', color='#FFCCD5')"
   ]
  },
  {
   "cell_type": "markdown",
   "id": "6ad26c11-4dfa-440e-8c03-0ab27a9aa793",
   "metadata": {},
   "source": [
    "This graph compares the count (frequency) of different transaction types in the dataset. PAYMENT and CASH_OUT are the most common types, followed by CASH_IN, then TRANSFER, while DEBIT transactions are extremely rare."
   ]
  },
  {
   "cell_type": "code",
   "execution_count": 195,
   "id": "f3847d0b-2581-4a7e-9ffd-98f3b8652d3b",
   "metadata": {},
   "outputs": [
    {
     "data": {
      "image/png": "[encoded data removed]",
      "text/plain": [
       "<Figure size 800x600 with 1 Axes>"
      ]
     },
     "metadata": {},
     "output_type": "display_data"
    }
   ],
   "source": [
    "# Countplot of type feature\n",
    "plt.figure(figsize=(8,6))\n",
    "\n",
    "colors = ['#FFB6C1', '#FF69B4']\n",
    "\n",
    "ax = sns.countplot(data=df, x='type', hue='isFraud', palette=colors)\n",
    "\n",
    "for i in range(len(ax.containers)):\n",
    "   ax.bar_label(ax.containers[i], fmt='{:,.0f}')\n",
    "\n",
    "plt.title('Type Vs isFraud')\n",
    "plt.show()"
   ]
  },
  {
   "cell_type": "markdown",
   "id": "697c0936-d876-4b9c-a9ff-664725b2c393",
   "metadata": {},
   "source": [
    "This graph compares transaction types versus fraud status. The light pink bars show legitimate transactions (isFraud = 0) and the darker pink (barely visible) represent fraudulent transactions (isFraud = 1). CASH_OUT and PAYMENT are the most common transaction types, with DEBIT being the rarest."
   ]
  },
  {
   "cell_type": "code",
   "execution_count": 198,
   "id": "9368c89d-da84-4e68-acff-b232cc53940f",
   "metadata": {},
   "outputs": [
    {
     "data": {
      "image/png": "[encoded data removed]",
      "text/plain": [
       "<Figure size 800x600 with 1 Axes>"
      ]
     },
     "metadata": {},
     "output_type": "display_data"
    }
   ],
   "source": [
    "# Histogram of Amount feature based on fraud\n",
    "plt.figure(figsize=(8,6))\n",
    "\n",
    "sns.histplot(\n",
    "   data=df[df['isFraud']==1],\n",
    "   x='amount',\n",
    "   kde=True,\n",
    "   color='#FF69B4',  \n",
    "   edgecolor='white'  \n",
    ")\n",
    "\n",
    "plt.title('Histogram of Amount of Fraudulent Transactions')\n",
    "plt.show()"
   ]
  },
  {
   "cell_type": "markdown",
   "id": "f4ac99e3-0703-4351-b07f-950c3a8c461f",
   "metadata": {},
   "source": [
    "This histogram shows the distribution of transaction amounts for fraudulent transactions. Most fraudulent activities occur with smaller amounts (clustered near zero), showing a right-skewed distribution. There's also a small spike of fraudulent transactions at the high end (near 10 million), suggesting two distinct fraud patterns: high-volume small transactions and fewer large-value frauds."
   ]
  },
  {
   "cell_type": "code",
   "execution_count": 201,
   "id": "e8daa831-942f-4ac3-a17b-4ca2f56f37fc",
   "metadata": {},
   "outputs": [],
   "source": [
    "# Select only numeric data\n",
    "numeric_columns = df.select_dtypes(include=['int64', 'float64']).columns\n",
    "correlation_matrix = df[numeric_columns].corr()"
   ]
  },
  {
   "cell_type": "code",
   "execution_count": 203,
   "id": "738963e4-ef76-4e8e-9540-c4eebeb40a7f",
   "metadata": {},
   "outputs": [
    {
     "name": "stdout",
     "output_type": "stream",
     "text": [
      "\n",
      "Numeric columns:\n",
      "['step', 'amount', 'oldbalanceOrg', 'newbalanceOrig', 'oldbalanceDest', 'newbalanceDest', 'isFraud', 'isFlaggedFraud']\n"
     ]
    }
   ],
   "source": [
    "print(\"\\nNumeric columns:\")\n",
    "print(list(numeric_columns))"
   ]
  },
  {
   "cell_type": "code",
   "execution_count": 205,
   "id": "148f8e3a-a3e1-4cac-8b4a-d46bdf24d82b",
   "metadata": {},
   "outputs": [
    {
     "data": {
      "image/png": "[encoded data removed]",
      "text/plain": [
       "<Figure size 1600x900 with 2 Axes>"
      ]
     },
     "metadata": {},
     "output_type": "display_data"
    }
   ],
   "source": [
    "plt.figure(figsize=(16, 9))\n",
    "sns.heatmap(correlation_matrix,\n",
    "           annot=True, \n",
    "           center=0,\n",
    "           fmt='.2f')  \n",
    "\n",
    "plt.title('Correlation Matrix of Numeric Features', pad=20)\n",
    "\n",
    "plt.tight_layout()\n"
   ]
  },
  {
   "cell_type": "markdown",
   "id": "e27bebd6-6863-4bef-bc65-52e44ec81424",
   "metadata": {},
   "source": [
    "The correlation matrix clearly shows that no single feature has a strong relationship with fraud, as evidenced by the very low correlation values between isFraud and all other variables (highest being only 0.08 with amount). This suggests that fraudulent transactions cannot be detected through simple linear relationships with individual features, highlighting why advanced modeling techniques like ensemble methods and resampling approaches are necessary for effective fraud detection in this dataset."
   ]
  },
  {
   "cell_type": "markdown",
   "id": "e4dae445-0dfc-4e4c-962c-19166239e3a6",
   "metadata": {},
   "source": [
    "## Data Preprocessing"
   ]
  },
  {
   "cell_type": "markdown",
   "id": "5fe99719-ee9d-46be-9024-02083b2361fd",
   "metadata": {},
   "source": [
    "### Feature selection"
   ]
  },
  {
   "cell_type": "markdown",
   "id": "a517dca2-22a0-4afe-ba5d-e56e65a76cdc",
   "metadata": {},
   "source": [
    "- Added time-based features by converting the 'step' column into:\n",
    "\n",
    "'hour': Extracting hour information (step % 24)\n",
    "'day': Extracting day information (step // 24)\n",
    "\n",
    "\n",
    "- Created merchant identifier feature:\n",
    "\n",
    "'isMerchant': Boolean flag (0/1) identifying if destination accounts are merchants, by checking if 'nameDest' starts with 'M'\n",
    "\n",
    "\n",
    "- Added balance change features:\n",
    "\n",
    "'ChangeOrg': Absolute difference between old and new origin account balances\n",
    "'ChangeDest': Absolute difference between old and new destination account balances\n",
    "\n",
    "\n",
    "- Created amount discrepancy features:\n",
    "\n",
    "'DiffAmountOrg': Absolute difference between account balance change and transaction amount for origin account\n",
    "'DiffAmountDest': Absolute difference between account balance change and transaction amount for destination account\n",
    "\n",
    "\n",
    "- Reorganized the target variable:\n",
    "\n",
    "Temporarily removed 'isFraud' column and reinserted it to position it at the end of the dataframe for better model training organization"
   ]
  },
  {
   "cell_type": "code",
   "execution_count": 212,
   "id": "a9c989ce-3cb4-4558-aeef-cd87a2c1f766",
   "metadata": {},
   "outputs": [],
   "source": [
    "#transform data in to day and hour format\n",
    "df['hour'] = df['step'] % 24\n",
    "df['day'] = df['step'] // 24 "
   ]
  },
  {
   "cell_type": "code",
   "execution_count": 214,
   "id": "b9d6ec12-8b59-48ff-aa33-ccd5c1d7f673",
   "metadata": {},
   "outputs": [],
   "source": [
    "df['isMerchant'] = df['nameDest'].str.startswith('M').astype(int)"
   ]
  },
  {
   "cell_type": "code",
   "execution_count": 216,
   "id": "2ce4e51a-e550-4129-9a5f-408b653bf790",
   "metadata": {},
   "outputs": [],
   "source": [
    "df['ChangeOrg'] = abs(df['oldbalanceOrg'] - df['newbalanceOrig'])\n",
    "df['ChangeDest'] = abs(df['oldbalanceDest'] - df['newbalanceDest'])"
   ]
  },
  {
   "cell_type": "code",
   "execution_count": 218,
   "id": "23e6a237-952f-452e-93c9-7a471eb39681",
   "metadata": {},
   "outputs": [],
   "source": [
    "df['DiffAmountOrg'] = abs(df['ChangeOrg'] - df['amount'])\n",
    "df['DiffAmountDest'] = abs(df['ChangeDest'] - df['amount'])"
   ]
  },
  {
   "cell_type": "code",
   "execution_count": 220,
   "id": "2bb1b052-b547-430f-871f-eb5c24d0262e",
   "metadata": {},
   "outputs": [],
   "source": [
    "fraud_column = df.pop('isFraud')\n",
    "df['isFraud'] = fraud_column"
   ]
  },
  {
   "cell_type": "code",
   "execution_count": 222,
   "id": "f2ba8ba1-6a56-406f-a7e8-fbc21684272f",
   "metadata": {},
   "outputs": [
    {
     "data": {
      "text/html": [
       "<div>\n",
       "<style scoped>\n",
       "    .dataframe tbody tr th:only-of-type {\n",
       "        vertical-align: middle;\n",
       "    }\n",
       "\n",
       "    .dataframe tbody tr th {\n",
       "        vertical-align: top;\n",
       "    }\n",
       "\n",
       "    .dataframe thead th {\n",
       "        text-align: right;\n",
       "    }\n",
       "</style>\n",
       "<table border=\"1\" class=\"dataframe\">\n",
       "  <thead>\n",
       "    <tr style=\"text-align: right;\">\n",
       "      <th></th>\n",
       "      <th>step</th>\n",
       "      <th>type</th>\n",
       "      <th>amount</th>\n",
       "      <th>nameOrig</th>\n",
       "      <th>oldbalanceOrg</th>\n",
       "      <th>newbalanceOrig</th>\n",
       "      <th>nameDest</th>\n",
       "      <th>oldbalanceDest</th>\n",
       "      <th>newbalanceDest</th>\n",
       "      <th>isFlaggedFraud</th>\n",
       "      <th>hour</th>\n",
       "      <th>day</th>\n",
       "      <th>isMerchant</th>\n",
       "      <th>ChangeOrg</th>\n",
       "      <th>ChangeDest</th>\n",
       "      <th>DiffAmountOrg</th>\n",
       "      <th>DiffAmountDest</th>\n",
       "      <th>isFraud</th>\n",
       "    </tr>\n",
       "  </thead>\n",
       "  <tbody>\n",
       "    <tr>\n",
       "      <th>0</th>\n",
       "      <td>1</td>\n",
       "      <td>PAYMENT</td>\n",
       "      <td>9839.64</td>\n",
       "      <td>C1231006815</td>\n",
       "      <td>170136.00</td>\n",
       "      <td>160296.36</td>\n",
       "      <td>M1979787155</td>\n",
       "      <td>0.00</td>\n",
       "      <td>0.00</td>\n",
       "      <td>0</td>\n",
       "      <td>1</td>\n",
       "      <td>0</td>\n",
       "      <td>1</td>\n",
       "      <td>9839.64</td>\n",
       "      <td>0.00</td>\n",
       "      <td>0.00</td>\n",
       "      <td>9839.64</td>\n",
       "      <td>0</td>\n",
       "    </tr>\n",
       "    <tr>\n",
       "      <th>1</th>\n",
       "      <td>1</td>\n",
       "      <td>PAYMENT</td>\n",
       "      <td>1864.28</td>\n",
       "      <td>C1666544295</td>\n",
       "      <td>21249.00</td>\n",
       "      <td>19384.72</td>\n",
       "      <td>M2044282225</td>\n",
       "      <td>0.00</td>\n",
       "      <td>0.00</td>\n",
       "      <td>0</td>\n",
       "      <td>1</td>\n",
       "      <td>0</td>\n",
       "      <td>1</td>\n",
       "      <td>1864.28</td>\n",
       "      <td>0.00</td>\n",
       "      <td>0.00</td>\n",
       "      <td>1864.28</td>\n",
       "      <td>0</td>\n",
       "    </tr>\n",
       "    <tr>\n",
       "      <th>2</th>\n",
       "      <td>1</td>\n",
       "      <td>TRANSFER</td>\n",
       "      <td>181.00</td>\n",
       "      <td>C1305486145</td>\n",
       "      <td>181.00</td>\n",
       "      <td>0.00</td>\n",
       "      <td>C553264065</td>\n",
       "      <td>0.00</td>\n",
       "      <td>0.00</td>\n",
       "      <td>0</td>\n",
       "      <td>1</td>\n",
       "      <td>0</td>\n",
       "      <td>0</td>\n",
       "      <td>181.00</td>\n",
       "      <td>0.00</td>\n",
       "      <td>0.00</td>\n",
       "      <td>181.00</td>\n",
       "      <td>1</td>\n",
       "    </tr>\n",
       "    <tr>\n",
       "      <th>3</th>\n",
       "      <td>1</td>\n",
       "      <td>CASH_OUT</td>\n",
       "      <td>181.00</td>\n",
       "      <td>C840083671</td>\n",
       "      <td>181.00</td>\n",
       "      <td>0.00</td>\n",
       "      <td>C38997010</td>\n",
       "      <td>21182.00</td>\n",
       "      <td>0.00</td>\n",
       "      <td>0</td>\n",
       "      <td>1</td>\n",
       "      <td>0</td>\n",
       "      <td>0</td>\n",
       "      <td>181.00</td>\n",
       "      <td>21182.00</td>\n",
       "      <td>0.00</td>\n",
       "      <td>21001.00</td>\n",
       "      <td>1</td>\n",
       "    </tr>\n",
       "    <tr>\n",
       "      <th>4</th>\n",
       "      <td>1</td>\n",
       "      <td>PAYMENT</td>\n",
       "      <td>11668.14</td>\n",
       "      <td>C2048537720</td>\n",
       "      <td>41554.00</td>\n",
       "      <td>29885.86</td>\n",
       "      <td>M1230701703</td>\n",
       "      <td>0.00</td>\n",
       "      <td>0.00</td>\n",
       "      <td>0</td>\n",
       "      <td>1</td>\n",
       "      <td>0</td>\n",
       "      <td>1</td>\n",
       "      <td>11668.14</td>\n",
       "      <td>0.00</td>\n",
       "      <td>0.00</td>\n",
       "      <td>11668.14</td>\n",
       "      <td>0</td>\n",
       "    </tr>\n",
       "    <tr>\n",
       "      <th>...</th>\n",
       "      <td>...</td>\n",
       "      <td>...</td>\n",
       "      <td>...</td>\n",
       "      <td>...</td>\n",
       "      <td>...</td>\n",
       "      <td>...</td>\n",
       "      <td>...</td>\n",
       "      <td>...</td>\n",
       "      <td>...</td>\n",
       "      <td>...</td>\n",
       "      <td>...</td>\n",
       "      <td>...</td>\n",
       "      <td>...</td>\n",
       "      <td>...</td>\n",
       "      <td>...</td>\n",
       "      <td>...</td>\n",
       "      <td>...</td>\n",
       "      <td>...</td>\n",
       "    </tr>\n",
       "    <tr>\n",
       "      <th>6362615</th>\n",
       "      <td>743</td>\n",
       "      <td>CASH_OUT</td>\n",
       "      <td>339682.13</td>\n",
       "      <td>C786484425</td>\n",
       "      <td>339682.13</td>\n",
       "      <td>0.00</td>\n",
       "      <td>C776919290</td>\n",
       "      <td>0.00</td>\n",
       "      <td>339682.13</td>\n",
       "      <td>0</td>\n",
       "      <td>23</td>\n",
       "      <td>30</td>\n",
       "      <td>0</td>\n",
       "      <td>339682.13</td>\n",
       "      <td>339682.13</td>\n",
       "      <td>0.00</td>\n",
       "      <td>0.00</td>\n",
       "      <td>1</td>\n",
       "    </tr>\n",
       "    <tr>\n",
       "      <th>6362616</th>\n",
       "      <td>743</td>\n",
       "      <td>TRANSFER</td>\n",
       "      <td>6311409.28</td>\n",
       "      <td>C1529008245</td>\n",
       "      <td>6311409.28</td>\n",
       "      <td>0.00</td>\n",
       "      <td>C1881841831</td>\n",
       "      <td>0.00</td>\n",
       "      <td>0.00</td>\n",
       "      <td>0</td>\n",
       "      <td>23</td>\n",
       "      <td>30</td>\n",
       "      <td>0</td>\n",
       "      <td>6311409.28</td>\n",
       "      <td>0.00</td>\n",
       "      <td>0.00</td>\n",
       "      <td>6311409.28</td>\n",
       "      <td>1</td>\n",
       "    </tr>\n",
       "    <tr>\n",
       "      <th>6362617</th>\n",
       "      <td>743</td>\n",
       "      <td>CASH_OUT</td>\n",
       "      <td>6311409.28</td>\n",
       "      <td>C1162922333</td>\n",
       "      <td>6311409.28</td>\n",
       "      <td>0.00</td>\n",
       "      <td>C1365125890</td>\n",
       "      <td>68488.84</td>\n",
       "      <td>6379898.11</td>\n",
       "      <td>0</td>\n",
       "      <td>23</td>\n",
       "      <td>30</td>\n",
       "      <td>0</td>\n",
       "      <td>6311409.28</td>\n",
       "      <td>6311409.27</td>\n",
       "      <td>0.00</td>\n",
       "      <td>0.01</td>\n",
       "      <td>1</td>\n",
       "    </tr>\n",
       "    <tr>\n",
       "      <th>6362618</th>\n",
       "      <td>743</td>\n",
       "      <td>TRANSFER</td>\n",
       "      <td>850002.52</td>\n",
       "      <td>C1685995037</td>\n",
       "      <td>850002.52</td>\n",
       "      <td>0.00</td>\n",
       "      <td>C2080388513</td>\n",
       "      <td>0.00</td>\n",
       "      <td>0.00</td>\n",
       "      <td>0</td>\n",
       "      <td>23</td>\n",
       "      <td>30</td>\n",
       "      <td>0</td>\n",
       "      <td>850002.52</td>\n",
       "      <td>0.00</td>\n",
       "      <td>0.00</td>\n",
       "      <td>850002.52</td>\n",
       "      <td>1</td>\n",
       "    </tr>\n",
       "    <tr>\n",
       "      <th>6362619</th>\n",
       "      <td>743</td>\n",
       "      <td>CASH_OUT</td>\n",
       "      <td>850002.52</td>\n",
       "      <td>C1280323807</td>\n",
       "      <td>850002.52</td>\n",
       "      <td>0.00</td>\n",
       "      <td>C873221189</td>\n",
       "      <td>6510099.11</td>\n",
       "      <td>7360101.63</td>\n",
       "      <td>0</td>\n",
       "      <td>23</td>\n",
       "      <td>30</td>\n",
       "      <td>0</td>\n",
       "      <td>850002.52</td>\n",
       "      <td>850002.52</td>\n",
       "      <td>0.00</td>\n",
       "      <td>0.00</td>\n",
       "      <td>1</td>\n",
       "    </tr>\n",
       "  </tbody>\n",
       "</table>\n",
       "<p>6362620 rows × 18 columns</p>\n",
       "</div>"
      ],
      "text/plain": [
       "         step      type     amount     nameOrig  oldbalanceOrg  \\\n",
       "0           1   PAYMENT    9839.64  C1231006815      170136.00   \n",
       "1           1   PAYMENT    1864.28  C1666544295       21249.00   \n",
       "2           1  TRANSFER     181.00  C1305486145         181.00   \n",
       "3           1  CASH_OUT     181.00   C840083671         181.00   \n",
       "4           1   PAYMENT   11668.14  C2048537720       41554.00   \n",
       "...       ...       ...        ...          ...            ...   \n",
       "6362615   743  CASH_OUT  339682.13   C786484425      339682.13   \n",
       "6362616   743  TRANSFER 6311409.28  C1529008245     6311409.28   \n",
       "6362617   743  CASH_OUT 6311409.28  C1162922333     6311409.28   \n",
       "6362618   743  TRANSFER  850002.52  C1685995037      850002.52   \n",
       "6362619   743  CASH_OUT  850002.52  C1280323807      850002.52   \n",
       "\n",
       "         newbalanceOrig     nameDest  oldbalanceDest  newbalanceDest  \\\n",
       "0             160296.36  M1979787155            0.00            0.00   \n",
       "1              19384.72  M2044282225            0.00            0.00   \n",
       "2                  0.00   C553264065            0.00            0.00   \n",
       "3                  0.00    C38997010        21182.00            0.00   \n",
       "4              29885.86  M1230701703            0.00            0.00   \n",
       "...                 ...          ...             ...             ...   \n",
       "6362615            0.00   C776919290            0.00       339682.13   \n",
       "6362616            0.00  C1881841831            0.00            0.00   \n",
       "6362617            0.00  C1365125890        68488.84      6379898.11   \n",
       "6362618            0.00  C2080388513            0.00            0.00   \n",
       "6362619            0.00   C873221189      6510099.11      7360101.63   \n",
       "\n",
       "         isFlaggedFraud  hour  day  isMerchant  ChangeOrg  ChangeDest  \\\n",
       "0                     0     1    0           1    9839.64        0.00   \n",
       "1                     0     1    0           1    1864.28        0.00   \n",
       "2                     0     1    0           0     181.00        0.00   \n",
       "3                     0     1    0           0     181.00    21182.00   \n",
       "4                     0     1    0           1   11668.14        0.00   \n",
       "...                 ...   ...  ...         ...        ...         ...   \n",
       "6362615               0    23   30           0  339682.13   339682.13   \n",
       "6362616               0    23   30           0 6311409.28        0.00   \n",
       "6362617               0    23   30           0 6311409.28  6311409.27   \n",
       "6362618               0    23   30           0  850002.52        0.00   \n",
       "6362619               0    23   30           0  850002.52   850002.52   \n",
       "\n",
       "         DiffAmountOrg  DiffAmountDest  isFraud  \n",
       "0                 0.00         9839.64        0  \n",
       "1                 0.00         1864.28        0  \n",
       "2                 0.00          181.00        1  \n",
       "3                 0.00        21001.00        1  \n",
       "4                 0.00        11668.14        0  \n",
       "...                ...             ...      ...  \n",
       "6362615           0.00            0.00        1  \n",
       "6362616           0.00      6311409.28        1  \n",
       "6362617           0.00            0.01        1  \n",
       "6362618           0.00       850002.52        1  \n",
       "6362619           0.00            0.00        1  \n",
       "\n",
       "[6362620 rows x 18 columns]"
      ]
     },
     "execution_count": 222,
     "metadata": {},
     "output_type": "execute_result"
    }
   ],
   "source": [
    "df"
   ]
  },
  {
   "cell_type": "code",
   "execution_count": 224,
   "id": "ef1c4996-f142-4a0a-bf75-a7d03f594def",
   "metadata": {},
   "outputs": [
    {
     "data": {
      "text/plain": [
       "step                  743\n",
       "type                    5\n",
       "amount            5316900\n",
       "nameOrig          6353307\n",
       "oldbalanceOrg     1845844\n",
       "newbalanceOrig    2682586\n",
       "nameDest          2722362\n",
       "oldbalanceDest    3614697\n",
       "newbalanceDest    3555499\n",
       "isFlaggedFraud          2\n",
       "hour                   24\n",
       "day                    31\n",
       "isMerchant              2\n",
       "ChangeOrg         2942732\n",
       "ChangeDest        3965873\n",
       "DiffAmountOrg     3345137\n",
       "DiffAmountDest    2145270\n",
       "isFraud                 2\n",
       "dtype: int64"
      ]
     },
     "execution_count": 224,
     "metadata": {},
     "output_type": "execute_result"
    }
   ],
   "source": [
    "df.nunique()"
   ]
  },
  {
   "cell_type": "markdown",
   "id": "6cb03eb8-69ac-4420-99a9-6de216ea9e0a",
   "metadata": {},
   "source": [
    "### Visualization"
   ]
  },
  {
   "cell_type": "code",
   "execution_count": 227,
   "id": "26301c4d-e4da-4799-a048-733f0b4992fb",
   "metadata": {},
   "outputs": [
    {
     "data": {
      "image/png": "[encoded data removed]",
      "text/plain": [
       "<Figure size 800x600 with 1 Axes>"
      ]
     },
     "metadata": {},
     "output_type": "display_data"
    }
   ],
   "source": [
    "hour_group = df.groupby('hour')['isFraud'].sum().reset_index()\n",
    "plt.figure(figsize=(8,6))\n",
    "sns.scatterplot(data=hour_group, x='hour', y='isFraud', color='#FFB6C1')\n",
    "\n",
    "plt.title('Hour Vs isFraud')\n",
    "plt.xlabel('Hour of Day')\n",
    "plt.ylabel('Number of Frauds')\n",
    "\n",
    "plt.xticks(range(0,24))\n",
    "\n",
    "plt.show()"
   ]
  },
  {
   "cell_type": "markdown",
   "id": "878e43c9-694d-4ff4-a6f9-2fcd9cca4e1a",
   "metadata": {},
   "source": [
    "The scatter plot shows the number of fraudulent transactions across different hours of the day (0-23). The distribution appears relatively uniform with no clear pattern or relationship between the hour of day and fraud frequency. "
   ]
  },
  {
   "cell_type": "code",
   "execution_count": 230,
   "id": "996b40a1-7c3d-4e71-8985-7f9bf012f99d",
   "metadata": {},
   "outputs": [
    {
     "data": {
      "image/png": "[encoded data removed]",
      "text/plain": [
       "<Figure size 1600x900 with 2 Axes>"
      ]
     },
     "metadata": {},
     "output_type": "display_data"
    }
   ],
   "source": [
    "numeric_columns_add = df.select_dtypes(include=['int64', 'float64']).columns\n",
    "correlation_matrix_add = df[numeric_columns_add].corr()\n",
    "\n",
    "plt.figure(figsize=(16, 9))\n",
    "sns.heatmap(correlation_matrix_add,\n",
    "           annot=True, \n",
    "           center=0,\n",
    "           fmt='.2f') \n",
    "\n",
    "plt.title('New Correlation Matrix of Numeric Features', pad=20)\n",
    "\n",
    "plt.tight_layout()"
   ]
  },
  {
   "cell_type": "markdown",
   "id": "a5694a07-5047-4616-a2d8-e28b782965ec",
   "metadata": {},
   "source": [
    "### Remove Outlier"
   ]
  },
  {
   "cell_type": "markdown",
   "id": "9dbf2aed-50b1-4dd1-885b-81e721af2443",
   "metadata": {},
   "source": [
    "We shouldn't remove any outlier due to fraud data usually be an outlier and remove it may loss a significant fraud data"
   ]
  },
  {
   "cell_type": "markdown",
   "id": "00a3889e-9f2c-4f10-83ff-ea23d139feb5",
   "metadata": {},
   "source": [
    "### Encoding Categorical Data"
   ]
  },
  {
   "cell_type": "code",
   "execution_count": 238,
   "id": "3a341280-7d61-40c4-a2d4-7d749bd71458",
   "metadata": {},
   "outputs": [
    {
     "name": "stdout",
     "output_type": "stream",
     "text": [
      "<class 'pandas.core.frame.DataFrame'>\n",
      "RangeIndex: 6362620 entries, 0 to 6362619\n",
      "Data columns (total 18 columns):\n",
      " #   Column          Dtype  \n",
      "---  ------          -----  \n",
      " 0   step            int64  \n",
      " 1   type            object \n",
      " 2   amount          float64\n",
      " 3   nameOrig        object \n",
      " 4   oldbalanceOrg   float64\n",
      " 5   newbalanceOrig  float64\n",
      " 6   nameDest        object \n",
      " 7   oldbalanceDest  float64\n",
      " 8   newbalanceDest  float64\n",
      " 9   isFlaggedFraud  int64  \n",
      " 10  hour            int64  \n",
      " 11  day             int64  \n",
      " 12  isMerchant      int64  \n",
      " 13  ChangeOrg       float64\n",
      " 14  ChangeDest      float64\n",
      " 15  DiffAmountOrg   float64\n",
      " 16  DiffAmountDest  float64\n",
      " 17  isFraud         int64  \n",
      "dtypes: float64(9), int64(6), object(3)\n",
      "memory usage: 873.8+ MB\n"
     ]
    }
   ],
   "source": [
    "df.info()"
   ]
  },
  {
   "cell_type": "code",
   "execution_count": 240,
   "id": "f033004c-3c38-48e3-9427-1052b4bfb408",
   "metadata": {},
   "outputs": [],
   "source": [
    "# encoding type\n",
    "le = LabelEncoder()\n",
    "df['type'] = le.fit_transform(df['type'])"
   ]
  },
  {
   "cell_type": "code",
   "execution_count": 241,
   "id": "82ecd9d8-16ea-4545-b150-bdfefc8c2460",
   "metadata": {},
   "outputs": [],
   "source": [
    "le = LabelEncoder()\n",
    "df['nameOrig'] = le.fit_transform(df['nameOrig'])\n",
    "df['nameDest'] = le.fit_transform(df['nameDest'])"
   ]
  },
  {
   "cell_type": "code",
   "execution_count": 243,
   "id": "d12c22da-a6ae-42f7-a637-ab46cd52db3c",
   "metadata": {},
   "outputs": [
    {
     "name": "stdout",
     "output_type": "stream",
     "text": [
      "<class 'pandas.core.frame.DataFrame'>\n",
      "RangeIndex: 6362620 entries, 0 to 6362619\n",
      "Data columns (total 18 columns):\n",
      " #   Column          Dtype  \n",
      "---  ------          -----  \n",
      " 0   step            int64  \n",
      " 1   type            int64  \n",
      " 2   amount          float64\n",
      " 3   nameOrig        int64  \n",
      " 4   oldbalanceOrg   float64\n",
      " 5   newbalanceOrig  float64\n",
      " 6   nameDest        int64  \n",
      " 7   oldbalanceDest  float64\n",
      " 8   newbalanceDest  float64\n",
      " 9   isFlaggedFraud  int64  \n",
      " 10  hour            int64  \n",
      " 11  day             int64  \n",
      " 12  isMerchant      int64  \n",
      " 13  ChangeOrg       float64\n",
      " 14  ChangeDest      float64\n",
      " 15  DiffAmountOrg   float64\n",
      " 16  DiffAmountDest  float64\n",
      " 17  isFraud         int64  \n",
      "dtypes: float64(9), int64(9)\n",
      "memory usage: 873.8 MB\n"
     ]
    }
   ],
   "source": [
    "df.info()"
   ]
  },
  {
   "cell_type": "markdown",
   "id": "13f10e44-ac7b-41fd-8dea-11b96df4fd3a",
   "metadata": {},
   "source": [
    "### Missing Value and Duplicate Value"
   ]
  },
  {
   "cell_type": "markdown",
   "id": "dbce64ac-8f4b-4302-90b1-d09c1905d3c8",
   "metadata": {},
   "source": [
    "(There are no Missing and Duplicate Value (Can see in Data Observation Section))"
   ]
  },
  {
   "cell_type": "markdown",
   "id": "ff8a5c0f-fb36-4536-b39d-583569007bbf",
   "metadata": {},
   "source": [
    "### Feature Scaling"
   ]
  },
  {
   "cell_type": "code",
   "execution_count": 250,
   "id": "834b9253-fb27-4e16-b465-6bdac4dd2477",
   "metadata": {},
   "outputs": [],
   "source": [
    "columns_to_scale = ['amount', 'oldbalanceOrg', 'newbalanceOrig', 'oldbalanceDest', 'newbalanceDest',\n",
    "                    'ChangeOrg', 'ChangeDest', 'DiffAmountOrg', 'DiffAmountDest']\n",
    "\n",
    "scaler = MinMaxScaler()\n",
    "\n",
    "df[columns_to_scale] = scaler.fit_transform(df[columns_to_scale])"
   ]
  },
  {
   "cell_type": "code",
   "execution_count": 252,
   "id": "cc9b12c0-eee0-445f-ba38-834cb1f5417f",
   "metadata": {},
   "outputs": [
    {
     "data": {
      "text/html": [
       "<div>\n",
       "<style scoped>\n",
       "    .dataframe tbody tr th:only-of-type {\n",
       "        vertical-align: middle;\n",
       "    }\n",
       "\n",
       "    .dataframe tbody tr th {\n",
       "        vertical-align: top;\n",
       "    }\n",
       "\n",
       "    .dataframe thead th {\n",
       "        text-align: right;\n",
       "    }\n",
       "</style>\n",
       "<table border=\"1\" class=\"dataframe\">\n",
       "  <thead>\n",
       "    <tr style=\"text-align: right;\">\n",
       "      <th></th>\n",
       "      <th>step</th>\n",
       "      <th>type</th>\n",
       "      <th>amount</th>\n",
       "      <th>nameOrig</th>\n",
       "      <th>oldbalanceOrg</th>\n",
       "      <th>newbalanceOrig</th>\n",
       "      <th>nameDest</th>\n",
       "      <th>oldbalanceDest</th>\n",
       "      <th>newbalanceDest</th>\n",
       "      <th>isFlaggedFraud</th>\n",
       "      <th>hour</th>\n",
       "      <th>day</th>\n",
       "      <th>isMerchant</th>\n",
       "      <th>ChangeOrg</th>\n",
       "      <th>ChangeDest</th>\n",
       "      <th>DiffAmountOrg</th>\n",
       "      <th>DiffAmountDest</th>\n",
       "      <th>isFraud</th>\n",
       "    </tr>\n",
       "  </thead>\n",
       "  <tbody>\n",
       "    <tr>\n",
       "      <th>0</th>\n",
       "      <td>1</td>\n",
       "      <td>3</td>\n",
       "      <td>0.00</td>\n",
       "      <td>757869</td>\n",
       "      <td>0.00</td>\n",
       "      <td>0.00</td>\n",
       "      <td>1662094</td>\n",
       "      <td>0.00</td>\n",
       "      <td>0.00</td>\n",
       "      <td>0</td>\n",
       "      <td>1</td>\n",
       "      <td>0</td>\n",
       "      <td>1</td>\n",
       "      <td>0.00</td>\n",
       "      <td>0.00</td>\n",
       "      <td>0.00</td>\n",
       "      <td>0.00</td>\n",
       "      <td>0</td>\n",
       "    </tr>\n",
       "    <tr>\n",
       "      <th>1</th>\n",
       "      <td>1</td>\n",
       "      <td>3</td>\n",
       "      <td>0.00</td>\n",
       "      <td>2188998</td>\n",
       "      <td>0.00</td>\n",
       "      <td>0.00</td>\n",
       "      <td>1733924</td>\n",
       "      <td>0.00</td>\n",
       "      <td>0.00</td>\n",
       "      <td>0</td>\n",
       "      <td>1</td>\n",
       "      <td>0</td>\n",
       "      <td>1</td>\n",
       "      <td>0.00</td>\n",
       "      <td>0.00</td>\n",
       "      <td>0.00</td>\n",
       "      <td>0.00</td>\n",
       "      <td>0</td>\n",
       "    </tr>\n",
       "    <tr>\n",
       "      <th>2</th>\n",
       "      <td>1</td>\n",
       "      <td>4</td>\n",
       "      <td>0.00</td>\n",
       "      <td>1002156</td>\n",
       "      <td>0.00</td>\n",
       "      <td>0.00</td>\n",
       "      <td>439685</td>\n",
       "      <td>0.00</td>\n",
       "      <td>0.00</td>\n",
       "      <td>0</td>\n",
       "      <td>1</td>\n",
       "      <td>0</td>\n",
       "      <td>0</td>\n",
       "      <td>0.00</td>\n",
       "      <td>0.00</td>\n",
       "      <td>0.00</td>\n",
       "      <td>0.00</td>\n",
       "      <td>1</td>\n",
       "    </tr>\n",
       "    <tr>\n",
       "      <th>3</th>\n",
       "      <td>1</td>\n",
       "      <td>1</td>\n",
       "      <td>0.00</td>\n",
       "      <td>5828262</td>\n",
       "      <td>0.00</td>\n",
       "      <td>0.00</td>\n",
       "      <td>391696</td>\n",
       "      <td>0.00</td>\n",
       "      <td>0.00</td>\n",
       "      <td>0</td>\n",
       "      <td>1</td>\n",
       "      <td>0</td>\n",
       "      <td>0</td>\n",
       "      <td>0.00</td>\n",
       "      <td>0.00</td>\n",
       "      <td>0.00</td>\n",
       "      <td>0.00</td>\n",
       "      <td>1</td>\n",
       "    </tr>\n",
       "    <tr>\n",
       "      <th>4</th>\n",
       "      <td>1</td>\n",
       "      <td>3</td>\n",
       "      <td>0.00</td>\n",
       "      <td>3445981</td>\n",
       "      <td>0.00</td>\n",
       "      <td>0.00</td>\n",
       "      <td>828919</td>\n",
       "      <td>0.00</td>\n",
       "      <td>0.00</td>\n",
       "      <td>0</td>\n",
       "      <td>1</td>\n",
       "      <td>0</td>\n",
       "      <td>1</td>\n",
       "      <td>0.00</td>\n",
       "      <td>0.00</td>\n",
       "      <td>0.00</td>\n",
       "      <td>0.00</td>\n",
       "      <td>0</td>\n",
       "    </tr>\n",
       "    <tr>\n",
       "      <th>...</th>\n",
       "      <td>...</td>\n",
       "      <td>...</td>\n",
       "      <td>...</td>\n",
       "      <td>...</td>\n",
       "      <td>...</td>\n",
       "      <td>...</td>\n",
       "      <td>...</td>\n",
       "      <td>...</td>\n",
       "      <td>...</td>\n",
       "      <td>...</td>\n",
       "      <td>...</td>\n",
       "      <td>...</td>\n",
       "      <td>...</td>\n",
       "      <td>...</td>\n",
       "      <td>...</td>\n",
       "      <td>...</td>\n",
       "      <td>...</td>\n",
       "      <td>...</td>\n",
       "    </tr>\n",
       "    <tr>\n",
       "      <th>6362615</th>\n",
       "      <td>743</td>\n",
       "      <td>1</td>\n",
       "      <td>0.00</td>\n",
       "      <td>5651847</td>\n",
       "      <td>0.01</td>\n",
       "      <td>0.00</td>\n",
       "      <td>505863</td>\n",
       "      <td>0.00</td>\n",
       "      <td>0.00</td>\n",
       "      <td>0</td>\n",
       "      <td>23</td>\n",
       "      <td>30</td>\n",
       "      <td>0</td>\n",
       "      <td>0.03</td>\n",
       "      <td>0.00</td>\n",
       "      <td>0.00</td>\n",
       "      <td>0.00</td>\n",
       "      <td>1</td>\n",
       "    </tr>\n",
       "    <tr>\n",
       "      <th>6362616</th>\n",
       "      <td>743</td>\n",
       "      <td>4</td>\n",
       "      <td>0.07</td>\n",
       "      <td>1737278</td>\n",
       "      <td>0.11</td>\n",
       "      <td>0.00</td>\n",
       "      <td>260949</td>\n",
       "      <td>0.00</td>\n",
       "      <td>0.00</td>\n",
       "      <td>0</td>\n",
       "      <td>23</td>\n",
       "      <td>30</td>\n",
       "      <td>0</td>\n",
       "      <td>0.63</td>\n",
       "      <td>0.00</td>\n",
       "      <td>0.00</td>\n",
       "      <td>0.08</td>\n",
       "      <td>1</td>\n",
       "    </tr>\n",
       "    <tr>\n",
       "      <th>6362617</th>\n",
       "      <td>743</td>\n",
       "      <td>1</td>\n",
       "      <td>0.07</td>\n",
       "      <td>533958</td>\n",
       "      <td>0.11</td>\n",
       "      <td>0.00</td>\n",
       "      <td>108224</td>\n",
       "      <td>0.00</td>\n",
       "      <td>0.02</td>\n",
       "      <td>0</td>\n",
       "      <td>23</td>\n",
       "      <td>30</td>\n",
       "      <td>0</td>\n",
       "      <td>0.63</td>\n",
       "      <td>0.06</td>\n",
       "      <td>0.00</td>\n",
       "      <td>0.00</td>\n",
       "      <td>1</td>\n",
       "    </tr>\n",
       "    <tr>\n",
       "      <th>6362618</th>\n",
       "      <td>743</td>\n",
       "      <td>4</td>\n",
       "      <td>0.01</td>\n",
       "      <td>2252932</td>\n",
       "      <td>0.01</td>\n",
       "      <td>0.00</td>\n",
       "      <td>319713</td>\n",
       "      <td>0.00</td>\n",
       "      <td>0.00</td>\n",
       "      <td>0</td>\n",
       "      <td>23</td>\n",
       "      <td>30</td>\n",
       "      <td>0</td>\n",
       "      <td>0.09</td>\n",
       "      <td>0.00</td>\n",
       "      <td>0.00</td>\n",
       "      <td>0.01</td>\n",
       "      <td>1</td>\n",
       "    </tr>\n",
       "    <tr>\n",
       "      <th>6362619</th>\n",
       "      <td>743</td>\n",
       "      <td>1</td>\n",
       "      <td>0.01</td>\n",
       "      <td>919229</td>\n",
       "      <td>0.01</td>\n",
       "      <td>0.00</td>\n",
       "      <td>534595</td>\n",
       "      <td>0.02</td>\n",
       "      <td>0.02</td>\n",
       "      <td>0</td>\n",
       "      <td>23</td>\n",
       "      <td>30</td>\n",
       "      <td>0</td>\n",
       "      <td>0.09</td>\n",
       "      <td>0.01</td>\n",
       "      <td>0.00</td>\n",
       "      <td>0.00</td>\n",
       "      <td>1</td>\n",
       "    </tr>\n",
       "  </tbody>\n",
       "</table>\n",
       "<p>6362620 rows × 18 columns</p>\n",
       "</div>"
      ],
      "text/plain": [
       "         step  type  amount  nameOrig  oldbalanceOrg  newbalanceOrig  \\\n",
       "0           1     3    0.00    757869           0.00            0.00   \n",
       "1           1     3    0.00   2188998           0.00            0.00   \n",
       "2           1     4    0.00   1002156           0.00            0.00   \n",
       "3           1     1    0.00   5828262           0.00            0.00   \n",
       "4           1     3    0.00   3445981           0.00            0.00   \n",
       "...       ...   ...     ...       ...            ...             ...   \n",
       "6362615   743     1    0.00   5651847           0.01            0.00   \n",
       "6362616   743     4    0.07   1737278           0.11            0.00   \n",
       "6362617   743     1    0.07    533958           0.11            0.00   \n",
       "6362618   743     4    0.01   2252932           0.01            0.00   \n",
       "6362619   743     1    0.01    919229           0.01            0.00   \n",
       "\n",
       "         nameDest  oldbalanceDest  newbalanceDest  isFlaggedFraud  hour  day  \\\n",
       "0         1662094            0.00            0.00               0     1    0   \n",
       "1         1733924            0.00            0.00               0     1    0   \n",
       "2          439685            0.00            0.00               0     1    0   \n",
       "3          391696            0.00            0.00               0     1    0   \n",
       "4          828919            0.00            0.00               0     1    0   \n",
       "...           ...             ...             ...             ...   ...  ...   \n",
       "6362615    505863            0.00            0.00               0    23   30   \n",
       "6362616    260949            0.00            0.00               0    23   30   \n",
       "6362617    108224            0.00            0.02               0    23   30   \n",
       "6362618    319713            0.00            0.00               0    23   30   \n",
       "6362619    534595            0.02            0.02               0    23   30   \n",
       "\n",
       "         isMerchant  ChangeOrg  ChangeDest  DiffAmountOrg  DiffAmountDest  \\\n",
       "0                 1       0.00        0.00           0.00            0.00   \n",
       "1                 1       0.00        0.00           0.00            0.00   \n",
       "2                 0       0.00        0.00           0.00            0.00   \n",
       "3                 0       0.00        0.00           0.00            0.00   \n",
       "4                 1       0.00        0.00           0.00            0.00   \n",
       "...             ...        ...         ...            ...             ...   \n",
       "6362615           0       0.03        0.00           0.00            0.00   \n",
       "6362616           0       0.63        0.00           0.00            0.08   \n",
       "6362617           0       0.63        0.06           0.00            0.00   \n",
       "6362618           0       0.09        0.00           0.00            0.01   \n",
       "6362619           0       0.09        0.01           0.00            0.00   \n",
       "\n",
       "         isFraud  \n",
       "0              0  \n",
       "1              0  \n",
       "2              1  \n",
       "3              1  \n",
       "4              0  \n",
       "...          ...  \n",
       "6362615        1  \n",
       "6362616        1  \n",
       "6362617        1  \n",
       "6362618        1  \n",
       "6362619        1  \n",
       "\n",
       "[6362620 rows x 18 columns]"
      ]
     },
     "execution_count": 252,
     "metadata": {},
     "output_type": "execute_result"
    }
   ],
   "source": [
    "df"
   ]
  },
  {
   "cell_type": "markdown",
   "id": "d0da682a-c4f5-4176-aab9-cf89e5735e16",
   "metadata": {},
   "source": [
    "### Data Split X and y"
   ]
  },
  {
   "cell_type": "code",
   "execution_count": 255,
   "id": "6e120606-d3bf-4184-b45e-bf8f137cafb0",
   "metadata": {},
   "outputs": [],
   "source": [
    "X = df.drop(columns=['isFraud'])\n",
    "y = df['isFraud']"
   ]
  },
  {
   "cell_type": "code",
   "execution_count": 257,
   "id": "a1a1c884-ede3-4cbe-aa85-4be083d71ad1",
   "metadata": {},
   "outputs": [
    {
     "data": {
      "text/plain": [
       "isFraud\n",
       "0    6354407\n",
       "1       8213\n",
       "Name: count, dtype: int64"
      ]
     },
     "execution_count": 257,
     "metadata": {},
     "output_type": "execute_result"
    }
   ],
   "source": [
    "#check\n",
    "y.value_counts()"
   ]
  },
  {
   "cell_type": "markdown",
   "id": "8a56c9f3-e114-4e02-beab-61bbef6dc772",
   "metadata": {},
   "source": [
    "### Data Spliting"
   ]
  },
  {
   "cell_type": "code",
   "execution_count": 260,
   "id": "e8667a40-67cb-4521-8477-9dde692753f9",
   "metadata": {},
   "outputs": [],
   "source": [
    "X_train, X_test, y_train, y_test = train_test_split(X, y, test_size=0.20, shuffle=True, random_state=101)"
   ]
  },
  {
   "cell_type": "code",
   "execution_count": 262,
   "id": "6d4b8a29-ef50-4b96-921c-6bab3a394081",
   "metadata": {},
   "outputs": [
    {
     "name": "stdout",
     "output_type": "stream",
     "text": [
      "X_train -  (5090096, 17)\n",
      "y_train -  (5090096,)\n",
      "X_test -  (1272524, 17)\n",
      "y_test -  (1272524,)\n"
     ]
    }
   ],
   "source": [
    "print(\"X_train - \",X_train.shape)\n",
    "print(\"y_train - \",y_train.shape)\n",
    "print(\"X_test - \",X_test.shape)\n",
    "print(\"y_test - \",y_test.shape)"
   ]
  },
  {
   "cell_type": "markdown",
   "id": "b3b3d9ba-33bc-4291-a196-22870f0abf6c",
   "metadata": {},
   "source": [
    "## Data imbalance"
   ]
  },
  {
   "cell_type": "markdown",
   "id": "7501d3f9-a43d-457e-8367-2d825d2e996b",
   "metadata": {},
   "source": [
    "### Undersampled"
   ]
  },
  {
   "cell_type": "code",
   "execution_count": 266,
   "id": "a45243b6-cbc4-4310-a6a3-ee44358a8b53",
   "metadata": {},
   "outputs": [
    {
     "name": "stdout",
     "output_type": "stream",
     "text": [
      "Resampled dataset shape Counter({0: 6586, 1: 6586})\n",
      "X_train_under -  (13172, 17)\n",
      "y_train_under -  (13172,)\n",
      "X_test_under -  (1272524, 17)\n",
      "y_test_under -  (1272524,)\n"
     ]
    }
   ],
   "source": [
    "random_state = 42\n",
    "\n",
    "rus = RandomUnderSampler(random_state=random_state)\n",
    "X_res, y_res = rus.fit_resample(X_train, y_train)\n",
    "\n",
    "print('Resampled dataset shape %s' % Counter(y_res))\n",
    "\n",
    "X_train_under = X_res\n",
    "y_train_under = y_res\n",
    "\n",
    "X_test_under, y_test_under = X_test, y_test\n",
    "\n",
    "print(\"X_train_under - \",X_train_under.shape)\n",
    "print(\"y_train_under - \",y_train_under.shape)\n",
    "print(\"X_test_under - \",X_test_under.shape)\n",
    "print(\"y_test_under - \",y_test_under.shape)"
   ]
  },
  {
   "cell_type": "markdown",
   "id": "c3d4c169-d946-469c-901d-88f4755ac44f",
   "metadata": {},
   "source": [
    "### Oversampled"
   ]
  },
  {
   "cell_type": "code",
   "execution_count": 269,
   "id": "0eccad84-067b-4fd4-bb06-b6ed21dde780",
   "metadata": {},
   "outputs": [
    {
     "name": "stdout",
     "output_type": "stream",
     "text": [
      "Resampled dataset shape Counter({0: 5083510, 1: 5083510})\n",
      "X_train_over -  (10167020, 17)\n",
      "y_train_over -  (10167020,)\n",
      "X_test_over -  (1272524, 17)\n",
      "y_test_over -  (1272524,)\n"
     ]
    }
   ],
   "source": [
    "random_state = 42\n",
    "\n",
    "ros = RandomOverSampler(random_state=random_state)\n",
    "X_res, y_res = ros.fit_resample(X_train, y_train)\n",
    "\n",
    "print('Resampled dataset shape %s' % Counter(y_res))\n",
    "\n",
    "X_train_over = X_res\n",
    "y_train_over = y_res\n",
    "X_test_over, y_test_over = X_test, y_test\n",
    "\n",
    "print(\"X_train_over - \",X_train_over.shape)\n",
    "print(\"y_train_over - \",y_train_over.shape)\n",
    "print(\"X_test_over - \",X_test_over.shape)\n",
    "print(\"y_test_over - \",y_test_over.shape)"
   ]
  },
  {
   "cell_type": "markdown",
   "id": "bc10652c-4760-4327-8a2c-5996eec3f253",
   "metadata": {},
   "source": [
    "### SMOTE"
   ]
  },
  {
   "cell_type": "code",
   "execution_count": 272,
   "id": "5b3cf86a-948c-4a80-9685-1c2e3247c26b",
   "metadata": {},
   "outputs": [
    {
     "name": "stdout",
     "output_type": "stream",
     "text": [
      "Resampled dataset shape Counter({0: 5083510, 1: 5083510})\n",
      "X_train_smote -  (10167020, 17)\n",
      "y_train_smote -  (10167020,)\n",
      "X_test_smote -  (1272524, 17)\n",
      "y_test_smote -  (1272524,)\n"
     ]
    }
   ],
   "source": [
    "random_state = 42\n",
    "\n",
    "smote = SMOTE(random_state=42)\n",
    "X_res, y_res  = smote.fit_resample(X_train, y_train)\n",
    "print('Resampled dataset shape %s' % Counter(y_res))\n",
    "\n",
    "X_train_smote = X_res\n",
    "y_train_smote = y_res\n",
    "X_test_smote, y_test_smote = X_test, y_test\n",
    "\n",
    "print(\"X_train_smote - \",X_train_smote.shape)\n",
    "print(\"y_train_smote - \",y_train_smote.shape)\n",
    "print(\"X_test_smote - \",X_test_smote.shape)\n",
    "print(\"y_test_smote - \",y_test_smote.shape)"
   ]
  },
  {
   "cell_type": "markdown",
   "id": "b6415633-d3f3-437a-ab26-86ca8f4bb5da",
   "metadata": {},
   "source": [
    "### ADASYN"
   ]
  },
  {
   "cell_type": "code",
   "execution_count": 277,
   "id": "7c0b3676-e7b0-4241-bf1b-8e9290503388",
   "metadata": {},
   "outputs": [
    {
     "name": "stdout",
     "output_type": "stream",
     "text": [
      "Resampled dataset shape Counter({0: 5083510, 1: 5080968})\n",
      "X_train_adasyn -  (10164478, 17)\n",
      "y_train_adasyn -  (10164478,)\n",
      "X_test_adasyn -  (1272524, 17)\n",
      "y_test_adasyn -  (1272524,)\n"
     ]
    }
   ],
   "source": [
    "random_state = 42\n",
    "\n",
    "adasyn = ADASYN(random_state=42)\n",
    "X_res, y_res = adasyn.fit_resample(X_train, y_train)\n",
    "print('Resampled dataset shape %s' % Counter(y_res))\n",
    "\n",
    "X_train_adasyn = X_res\n",
    "y_train_adasyn = y_res\n",
    "X_test_adasyn, y_test_adasyn = X_test, y_test\n",
    "\n",
    "print(\"X_train_adasyn - \",X_train_adasyn.shape) \n",
    "print(\"y_train_adasyn - \",y_train_adasyn.shape)\n",
    "print(\"X_test_adasyn - \",X_test_adasyn.shape)\n",
    "print(\"y_test_adasyn - \",y_test_adasyn.shape)"
   ]
  },
  {
   "cell_type": "markdown",
   "id": "8251985e-b885-491f-b3ee-848ebb26db7d",
   "metadata": {},
   "source": [
    "## Modeling"
   ]
  },
  {
   "cell_type": "code",
   "execution_count": 281,
   "id": "7678834c-e835-4751-b920-7a6acd8df8cb",
   "metadata": {},
   "outputs": [
    {
     "name": "stdout",
     "output_type": "stream",
     "text": [
      "Requirement already satisfied: xgboost in /opt/anaconda3/lib/python3.12/site-packages (2.1.3)\n",
      "Requirement already satisfied: numpy in /opt/anaconda3/lib/python3.12/site-packages (from xgboost) (1.26.4)\n",
      "Requirement already satisfied: scipy in /opt/anaconda3/lib/python3.12/site-packages (from xgboost) (1.13.1)\n",
      "\n",
      "\u001b[1m[\u001b[0m\u001b[34;49mnotice\u001b[0m\u001b[1;39;49m]\u001b[0m\u001b[39;49m A new release of pip is available: \u001b[0m\u001b[31;49m24.2\u001b[0m\u001b[39;49m -> \u001b[0m\u001b[32;49m25.0.1\u001b[0m\n",
      "\u001b[1m[\u001b[0m\u001b[34;49mnotice\u001b[0m\u001b[1;39;49m]\u001b[0m\u001b[39;49m To update, run: \u001b[0m\u001b[32;49mpip install --upgrade pip\u001b[0m\n",
      "Note: you may need to restart the kernel to use updated packages.\n"
     ]
    }
   ],
   "source": [
    "pip install xgboost"
   ]
  },
  {
   "cell_type": "code",
   "execution_count": 283,
   "id": "45c31dda-7abb-42b6-a8d0-48aa4fc91201",
   "metadata": {},
   "outputs": [],
   "source": [
    "from sklearn.model_selection import cross_val_score\n",
    "from sklearn.model_selection import StratifiedKFold\n",
    "\n",
    "from sklearn.linear_model import LogisticRegression\n",
    "from sklearn.tree import DecisionTreeClassifier\n",
    "from sklearn.ensemble import RandomForestClassifier\n",
    "from sklearn.svm import SVC\n",
    "from sklearn.neighbors import KNeighborsClassifier\n",
    "from sklearn.naive_bayes import GaussianNB\n",
    "import sklearn.metrics as metrics\n",
    "from xgboost import XGBClassifier"
   ]
  },
  {
   "cell_type": "code",
   "execution_count": 286,
   "id": "5a17a45f-1763-431f-9863-53a0c58216b0",
   "metadata": {},
   "outputs": [],
   "source": [
    "names_lst = []\n",
    "\n",
    "# Empty list to capture performance matrix for train set\n",
    "aucs_train_lst = []\n",
    "accuracy_train_lst = []\n",
    "precision_train_lst = []\n",
    "recall_train_lst = []\n",
    "f1_train_lst = []\n",
    "\n",
    "# Empty list to capture performance matrix for test set\n",
    "aucs_test_lst = []\n",
    "accuracy_test_lst = []\n",
    "precision_test_lst = []\n",
    "recall_test_lst = []\n",
    "f1_test_lst = []\n",
    "\n",
    "# Function for model building and performance measure\n",
    "\n",
    "def build_measure_model(models):\n",
    "    #plt.figure(figsize=(12,6))\n",
    "\n",
    "    for name, model, X_train, X_test, y_train, y_test in models:\n",
    "\n",
    "        names_lst.append(name)\n",
    "\n",
    "        # split data in train test set\n",
    "        X_train, X_test, y_train, y_test = X_train, X_test, y_train, y_test\n",
    "\n",
    "        # Build model\n",
    "        model.fit(X_train, y_train)\n",
    "\n",
    "        # Predict\n",
    "        y_train_pred = model.predict(X_train)\n",
    "        y_test_pred = model.predict(X_test)\n",
    "\n",
    "        # calculate accuracy\n",
    "        Accuracy_train = metrics.accuracy_score(y_train, y_train_pred)\n",
    "        accuracy_train_lst.append(Accuracy_train)\n",
    "\n",
    "        Accuracy_test = metrics.accuracy_score(y_test, y_test_pred)\n",
    "        accuracy_test_lst.append(Accuracy_test)\n",
    "\n",
    "        # calculate auc\n",
    "        Aucs_train = metrics.roc_auc_score(y_train, y_train_pred)\n",
    "        aucs_train_lst.append(Aucs_train)\n",
    "\n",
    "        Aucs_test = metrics.roc_auc_score(y_test , y_test_pred)\n",
    "        aucs_test_lst.append(Aucs_test)\n",
    "\n",
    "        # calculate precision\n",
    "        PrecisionScore_train = metrics.precision_score(y_train , y_train_pred)\n",
    "        precision_train_lst.append(PrecisionScore_train)\n",
    "\n",
    "        PrecisionScore_test = metrics.precision_score(y_test , y_test_pred)\n",
    "        precision_test_lst.append(PrecisionScore_test)\n",
    "\n",
    "        # calculate recall\n",
    "        RecallScore_train = metrics.recall_score(y_train , y_train_pred)\n",
    "        recall_train_lst.append(RecallScore_train)\n",
    "\n",
    "        RecallScore_test = metrics.recall_score(y_test , y_test_pred)\n",
    "        recall_test_lst.append(RecallScore_test)\n",
    "\n",
    "        # calculate f1 score\n",
    "        F1Score_train = metrics.f1_score(y_train , y_train_pred)\n",
    "        f1_train_lst.append(F1Score_train)\n",
    "\n",
    "        F1Score_test = metrics.f1_score(y_test , y_test_pred)\n",
    "        f1_test_lst.append(F1Score_test)\n",
    "\n",
    "        #print('F1 Score of '+ name +' model : {0:0.5f}'.format(F1Score_test))\n",
    "\n",
    "        # draw confusion matrix\n",
    "        cnf_matrix = metrics.confusion_matrix(y_test , y_test_pred)\n",
    "\n",
    "        print(\"Model Name :\", name)\n",
    "\n",
    "        #print('Train Accuracy :{0:0.5f}'.format(Accuracy_train))\n",
    "        print('Test Accuracy :{0:0.5f}'.format(Accuracy_test))\n",
    "\n",
    "        #print('Train AUC : {0:0.5f}'.format(Aucs_train))\n",
    "        print('Test AUC : {0:0.5f}'.format(Aucs_test))\n",
    "\n",
    "        #print('Train Precision : {0:0.5f}'.format(PrecisionScore_train))\n",
    "        print('Test Precision : {0:0.5f}'.format(PrecisionScore_test))\n",
    "\n",
    "        #print('Train Recall : {0:0.5f}'.format(RecallScore_train))\n",
    "        print('Test Recall : {0:0.5f}'.format(RecallScore_test))\n",
    "\n",
    "        #print('Train F1 : {0:0.5f}'.format(F1Score_train))\n",
    "        print('Test F1 : {0:0.5f}'.format(F1Score_test))\n",
    "\n",
    "        print('Confusion Matrix : \\n', cnf_matrix)\n",
    "        print(\"\\n\")"
   ]
  },
  {
   "cell_type": "markdown",
   "id": "8eb52ec4-6cce-4b59-a5f6-40a4f31f14d8",
   "metadata": {},
   "source": [
    "This code creates a systematic evaluation framework for comparing model performance across multiple metrics (accuracy, AUC, precision, recall, F1) on both training and test sets. It's designed to consistently measure and track how different fraud detection models (Decision Tree, XGBoost, Logistic Regression) perform, with special focus on metrics that matter for imbalanced datasets. The function handles model fitting, prediction, and comprehensive performance evaluation, making it easy to identify which approach works best for fraud detection."
   ]
  },
  {
   "cell_type": "markdown",
   "id": "7aa5474d-be69-45f1-a804-e34bab8da77a",
   "metadata": {},
   "source": [
    "### Logistic Regression (LR)"
   ]
  },
  {
   "cell_type": "code",
   "execution_count": 290,
   "id": "94c8a7dc-4500-4afb-9904-62c02cb5a99d",
   "metadata": {},
   "outputs": [
    {
     "name": "stdout",
     "output_type": "stream",
     "text": [
      "Model Name : LR Undersampling\n",
      "Test Accuracy :0.62163\n",
      "Test AUC : 0.66601\n",
      "Test Precision : 0.00240\n",
      "Test Recall : 0.71051\n",
      "Test F1 : 0.00478\n",
      "Confusion Matrix : \n",
      " [[789878 481019]\n",
      " [   471   1156]]\n",
      "\n",
      "\n",
      "Model Name : LR Oversampling\n",
      "Test Accuracy :0.61989\n",
      "Test AUC : 0.66606\n",
      "Test Precision : 0.00239\n",
      "Test Recall : 0.71235\n",
      "Test F1 : 0.00477\n",
      "Confusion Matrix : \n",
      " [[787669 483228]\n",
      " [   468   1159]]\n",
      "\n",
      "\n",
      "Model Name : LR SMOTE\n",
      "Test Accuracy :0.62409\n",
      "Test AUC : 0.66448\n",
      "Test Precision : 0.00239\n",
      "Test Recall : 0.70498\n",
      "Test F1 : 0.00477\n",
      "Confusion Matrix : \n",
      " [[793025 477872]\n",
      " [   480   1147]]\n",
      "\n",
      "\n",
      "Model Name : LR ADASYN\n",
      "Test Accuracy :0.62442\n",
      "Test AUC : 0.66465\n",
      "Test Precision : 0.00240\n",
      "Test Recall : 0.70498\n",
      "Test F1 : 0.00478\n",
      "Confusion Matrix : \n",
      " [[793445 477452]\n",
      " [   480   1147]]\n",
      "\n",
      "\n"
     ]
    }
   ],
   "source": [
    "LRmodels = []\n",
    "\n",
    "#LRmodels.append(('LR imbalance', LogisticRegression(solver='liblinear', multi_class='ovr'),X,y))\n",
    "LRmodels.append(('LR Undersampling', LogisticRegression(solver='liblinear', multi_class='ovr'),X_train_under, X_test_under, y_train_under, y_test_under))\n",
    "LRmodels.append(('LR Oversampling', LogisticRegression(solver='liblinear', multi_class='ovr'),X_train_over, X_test_over, y_train_over, y_test_over))\n",
    "LRmodels.append(('LR SMOTE', LogisticRegression(solver='liblinear', multi_class='ovr'),X_train_smote, X_test_smote, y_train_smote, y_test_smote))\n",
    "LRmodels.append(('LR ADASYN', LogisticRegression(solver='liblinear', multi_class='ovr'),X_train_adasyn, X_test_adasyn, y_train_adasyn, y_test_adasyn))\n",
    "\n",
    "# Call function to create model and measure its performance\n",
    "build_measure_model(LRmodels)"
   ]
  },
  {
   "cell_type": "markdown",
   "id": "b457d9cf-7c6a-4461-803f-beea06e2074f",
   "metadata": {},
   "source": [
    "### Decision Tree (DT)"
   ]
  },
  {
   "cell_type": "code",
   "execution_count": 292,
   "id": "72796873-6649-4eed-a8ac-23f5c1e1dc98",
   "metadata": {},
   "outputs": [
    {
     "name": "stdout",
     "output_type": "stream",
     "text": [
      "Model Name : DT Undersampling\n",
      "Test Accuracy :0.99657\n",
      "Test AUC : 0.99706\n",
      "Test Precision : 0.27127\n",
      "Test Recall : 0.99754\n",
      "Test F1 : 0.42654\n",
      "Confusion Matrix : \n",
      " [[1266537    4360]\n",
      " [      4    1623]]\n",
      "\n",
      "\n",
      "Model Name : DT Oversampling\n",
      "Test Accuracy :0.99997\n",
      "Test AUC : 0.99262\n",
      "Test Precision : 0.98768\n",
      "Test Recall : 0.98525\n",
      "Test F1 : 0.98646\n",
      "Confusion Matrix : \n",
      " [[1270877      20]\n",
      " [     24    1603]]\n",
      "\n",
      "\n",
      "Model Name : DT SMOTE\n",
      "Test Accuracy :0.99973\n",
      "Test AUC : 0.99588\n",
      "Test Precision : 0.83110\n",
      "Test Recall : 0.99201\n",
      "Test F1 : 0.90446\n",
      "Confusion Matrix : \n",
      " [[1270569     328]\n",
      " [     13    1614]]\n",
      "\n",
      "\n",
      "Model Name : DT ADASYN\n",
      "Test Accuracy :0.99977\n",
      "Test AUC : 0.99375\n",
      "Test Precision : 0.85388\n",
      "Test Recall : 0.98771\n",
      "Test F1 : 0.91593\n",
      "Confusion Matrix : \n",
      " [[1270622     275]\n",
      " [     20    1607]]\n",
      "\n",
      "\n"
     ]
    }
   ],
   "source": [
    "DTmodels = []\n",
    "\n",
    "dt = DecisionTreeClassifier()\n",
    "\n",
    "#DTmodels.append(('DT imbalance', dt,X,y))\n",
    "DTmodels.append(('DT Undersampling', dt, X_train_under, X_test_under, y_train_under, y_test_under))\n",
    "DTmodels.append(('DT Oversampling', dt,X_train_over, X_test_over, y_train_over, y_test_over))\n",
    "DTmodels.append(('DT SMOTE', dt,X_train_smote, X_test_smote, y_train_smote, y_test_smote))\n",
    "DTmodels.append(('DT ADASYN', dt ,X_train_adasyn, X_test_adasyn, y_train_adasyn, y_test_adasyn))\n",
    "\n",
    "# Call function to create model and measure its performance\n",
    "build_measure_model(DTmodels)"
   ]
  },
  {
   "cell_type": "markdown",
   "id": "4d56e1ef-5278-4b8e-9f5a-7da2a2e15951",
   "metadata": {},
   "source": [
    "### xgboost (XGB)"
   ]
  },
  {
   "cell_type": "code",
   "execution_count": 294,
   "id": "23217c10-95c6-4e1e-82b6-f5c5658fe07a",
   "metadata": {},
   "outputs": [
    {
     "name": "stdout",
     "output_type": "stream",
     "text": [
      "Model Name : XGB Undersampling\n",
      "Test Accuracy :0.99889\n",
      "Test AUC : 0.99822\n",
      "Test Precision : 0.53529\n",
      "Test Recall : 0.99754\n",
      "Test F1 : 0.69672\n",
      "Confusion Matrix : \n",
      " [[1269488    1409]\n",
      " [      4    1623]]\n",
      "\n",
      "\n",
      "Model Name : XGB Oversampling\n",
      "Test Accuracy :0.99984\n",
      "Test AUC : 0.99439\n",
      "Test Precision : 0.89488\n",
      "Test Recall : 0.98894\n",
      "Test F1 : 0.93956\n",
      "Confusion Matrix : \n",
      " [[1270708     189]\n",
      " [     18    1609]]\n",
      "\n",
      "\n",
      "Model Name : XGB SMOTE\n",
      "Test Accuracy :0.99981\n",
      "Test AUC : 0.99438\n",
      "Test Precision : 0.87828\n",
      "Test Recall : 0.98894\n",
      "Test F1 : 0.93033\n",
      "Confusion Matrix : \n",
      " [[1270674     223]\n",
      " [     18    1609]]\n",
      "\n",
      "\n",
      "Model Name : XGB ADASYN\n",
      "Test Accuracy :0.99982\n",
      "Test AUC : 0.99408\n",
      "Test Precision : 0.88644\n",
      "Test Recall : 0.98832\n",
      "Test F1 : 0.93461\n",
      "Confusion Matrix : \n",
      " [[1270691     206]\n",
      " [     19    1608]]\n",
      "\n",
      "\n"
     ]
    }
   ],
   "source": [
    "XGBmodels = []\n",
    "\n",
    "#XGBmodels.append(('XGB imbalance', XGBClassifier(),X,y))\n",
    "XGBmodels.append(('XGB Undersampling', XGBClassifier(),X_train_under, X_test_under, y_train_under, y_test_under))\n",
    "XGBmodels.append(('XGB Oversampling', XGBClassifier(),X_train_over, X_test_over, y_train_over, y_test_over))\n",
    "XGBmodels.append(('XGB SMOTE', XGBClassifier(),X_train_smote, X_test_smote, y_train_smote, y_test_smote))\n",
    "XGBmodels.append(('XGB ADASYN', XGBClassifier(),X_train_adasyn, X_test_adasyn, y_train_adasyn, y_test_adasyn))\n",
    "\n",
    "# Call function to create model and measure its performance\n",
    "build_measure_model(XGBmodels)"
   ]
  },
  {
   "cell_type": "markdown",
   "id": "f2f13efe-d26c-464b-9abb-f9617b44ab47",
   "metadata": {},
   "source": [
    "## Result"
   ]
  },
  {
   "cell_type": "code",
   "execution_count": 298,
   "id": "2541c0a1-0b20-4ba7-a1e9-acde7e1ef988",
   "metadata": {},
   "outputs": [
    {
     "name": "stdout",
     "output_type": "stream",
     "text": [
      "Performance measures of various classifiers: \n",
      "\n"
     ]
    },
    {
     "data": {
      "text/html": [
       "<div>\n",
       "<style scoped>\n",
       "    .dataframe tbody tr th:only-of-type {\n",
       "        vertical-align: middle;\n",
       "    }\n",
       "\n",
       "    .dataframe tbody tr th {\n",
       "        vertical-align: top;\n",
       "    }\n",
       "\n",
       "    .dataframe thead th {\n",
       "        text-align: right;\n",
       "    }\n",
       "</style>\n",
       "<table border=\"1\" class=\"dataframe\">\n",
       "  <thead>\n",
       "    <tr style=\"text-align: right;\">\n",
       "      <th></th>\n",
       "      <th>Model</th>\n",
       "      <th>PrecisionScore_Test</th>\n",
       "      <th>RecallScore_Test</th>\n",
       "      <th>F1Score_Test</th>\n",
       "    </tr>\n",
       "  </thead>\n",
       "  <tbody>\n",
       "    <tr>\n",
       "      <th>5</th>\n",
       "      <td>DT Oversampling</td>\n",
       "      <td>0.99</td>\n",
       "      <td>0.99</td>\n",
       "      <td>0.99</td>\n",
       "    </tr>\n",
       "    <tr>\n",
       "      <th>9</th>\n",
       "      <td>XGB Oversampling</td>\n",
       "      <td>0.89</td>\n",
       "      <td>0.99</td>\n",
       "      <td>0.94</td>\n",
       "    </tr>\n",
       "    <tr>\n",
       "      <th>11</th>\n",
       "      <td>XGB ADASYN</td>\n",
       "      <td>0.89</td>\n",
       "      <td>0.99</td>\n",
       "      <td>0.93</td>\n",
       "    </tr>\n",
       "    <tr>\n",
       "      <th>10</th>\n",
       "      <td>XGB SMOTE</td>\n",
       "      <td>0.88</td>\n",
       "      <td>0.99</td>\n",
       "      <td>0.93</td>\n",
       "    </tr>\n",
       "    <tr>\n",
       "      <th>7</th>\n",
       "      <td>DT ADASYN</td>\n",
       "      <td>0.85</td>\n",
       "      <td>0.99</td>\n",
       "      <td>0.92</td>\n",
       "    </tr>\n",
       "    <tr>\n",
       "      <th>6</th>\n",
       "      <td>DT SMOTE</td>\n",
       "      <td>0.83</td>\n",
       "      <td>0.99</td>\n",
       "      <td>0.90</td>\n",
       "    </tr>\n",
       "    <tr>\n",
       "      <th>8</th>\n",
       "      <td>XGB Undersampling</td>\n",
       "      <td>0.54</td>\n",
       "      <td>1.00</td>\n",
       "      <td>0.70</td>\n",
       "    </tr>\n",
       "    <tr>\n",
       "      <th>4</th>\n",
       "      <td>DT Undersampling</td>\n",
       "      <td>0.27</td>\n",
       "      <td>1.00</td>\n",
       "      <td>0.43</td>\n",
       "    </tr>\n",
       "    <tr>\n",
       "      <th>0</th>\n",
       "      <td>LR Undersampling</td>\n",
       "      <td>0.00</td>\n",
       "      <td>0.71</td>\n",
       "      <td>0.00</td>\n",
       "    </tr>\n",
       "    <tr>\n",
       "      <th>3</th>\n",
       "      <td>LR ADASYN</td>\n",
       "      <td>0.00</td>\n",
       "      <td>0.70</td>\n",
       "      <td>0.00</td>\n",
       "    </tr>\n",
       "    <tr>\n",
       "      <th>2</th>\n",
       "      <td>LR SMOTE</td>\n",
       "      <td>0.00</td>\n",
       "      <td>0.70</td>\n",
       "      <td>0.00</td>\n",
       "    </tr>\n",
       "    <tr>\n",
       "      <th>1</th>\n",
       "      <td>LR Oversampling</td>\n",
       "      <td>0.00</td>\n",
       "      <td>0.71</td>\n",
       "      <td>0.00</td>\n",
       "    </tr>\n",
       "  </tbody>\n",
       "</table>\n",
       "</div>"
      ],
      "text/plain": [
       "                Model  PrecisionScore_Test  RecallScore_Test  F1Score_Test\n",
       "5     DT Oversampling                 0.99              0.99          0.99\n",
       "9    XGB Oversampling                 0.89              0.99          0.94\n",
       "11         XGB ADASYN                 0.89              0.99          0.93\n",
       "10          XGB SMOTE                 0.88              0.99          0.93\n",
       "7           DT ADASYN                 0.85              0.99          0.92\n",
       "6            DT SMOTE                 0.83              0.99          0.90\n",
       "8   XGB Undersampling                 0.54              1.00          0.70\n",
       "4    DT Undersampling                 0.27              1.00          0.43\n",
       "0    LR Undersampling                 0.00              0.71          0.00\n",
       "3           LR ADASYN                 0.00              0.70          0.00\n",
       "2            LR SMOTE                 0.00              0.70          0.00\n",
       "1     LR Oversampling                 0.00              0.71          0.00"
      ]
     },
     "execution_count": 298,
     "metadata": {},
     "output_type": "execute_result"
    }
   ],
   "source": [
    "# Display comparison of the models performance\n",
    "\n",
    "data = {'Model':names_lst,\n",
    "       #'Accuracy_Train':accuracy_train_lst,\n",
    "       #'Accuracy_Test':accuracy_test_lst,\n",
    "       #'AUC_Train':aucs_train_lst,\n",
    "       #'AUC_Test':aucs_test_lst,\n",
    "       #'PrecisionScore_Train':precision_train_lst,\n",
    "       'PrecisionScore_Test':precision_test_lst,\n",
    "       #'RecallScore_Train':recall_train_lst,\n",
    "       'RecallScore_Test':recall_test_lst,\n",
    "       #'F1Score_Train':f1_train_lst,\n",
    "       'F1Score_Test':f1_test_lst}\n",
    "\n",
    "print(\"Performance measures of various classifiers: \\n\")\n",
    "performance_df = pd.DataFrame(data) \n",
    "performance_df.sort_values(['F1Score_Test'],ascending=False)"
   ]
  },
  {
   "cell_type": "markdown",
   "id": "08d368fa-91c1-4254-b359-ee828de638c1",
   "metadata": {},
   "source": [
    "# Model Performance Analysis\n",
    "\n",
    "## Results Summary\n",
    "The table above ranks models by F1-Score (highest to lowest), providing a clear comparison of model performance across different algorithms and resampling techniques.\n",
    "\n",
    "## Key Findings:\n",
    "\n",
    "### Top Performing Models\n",
    "- **Decision Tree with Oversampling** achieved the highest performance metrics (Precision: 0.99, Recall: 0.99, F1-Score: 0.99), demonstrating exceptional ability to detect fraudulent transactions while minimizing false positives.\n",
    "- **XGBoost with resampling techniques** (Oversampling, ADASYN, SMOTE) delivered consistently strong results with F1-scores between 0.93-0.94, proving to be reliable alternatives.\n",
    "\n",
    "### Resampling Technique Impact\n",
    "- **Oversampling** provided the best overall results for both DT and XGB models\n",
    "- **ADASYN slightly outperformed SMOTE** for both Decision Tree and XGBoost models\n",
    "- **Undersampling** achieved perfect or near-perfect recall (1.00) but at significant cost to precision\n",
    "\n",
    "### Algorithm Differences\n",
    "- **Decision Trees** performed exceptionally well with proper resampling\n",
    "- **XGBoost** showed strong and consistent performance across most resampling techniques\n",
    "- **Logistic Regression** models performed poorly across all resampling approaches (F1-scores of 0.00), suggesting linear models cannot effectively capture the complex patterns of fraudulent transactions\n",
    "\n",
    "### Conclusion\n",
    "The results clearly demonstrate that addressing class imbalance through appropriate resampling techniques is crucial for fraud detection, with oversampling proving most effective when combined with tree-based models. The complexity of fraud patterns in financial transactions appears beyond the capabilities of linear models regardless of resampling strategy."
   ]
  }
 ],
 "metadata": {
  "kernelspec": {
   "display_name": "Python 3 (ipykernel)",
   "language": "python",
   "name": "python3"
  },
  "language_info": {
   "codemirror_mode": {
    "name": "ipython",
    "version": 3
   },
   "file_extension": ".py",
   "mimetype": "text/x-python",
   "name": "python",
   "nbconvert_exporter": "python",
   "pygments_lexer": "ipython3",
   "version": "3.12.4"
  }
 },
 "nbformat": 4,
 "nbformat_minor": 5
}
